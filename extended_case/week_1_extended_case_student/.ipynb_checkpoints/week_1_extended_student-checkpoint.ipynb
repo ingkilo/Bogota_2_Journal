{
 "cells": [
  {
   "cell_type": "markdown",
   "metadata": {},
   "source": [
    "# How can we control the increasing number of accidents in New York?"
   ]
  },
  {
   "cell_type": "code",
   "execution_count": 1,
   "metadata": {},
   "outputs": [],
   "source": [
    "import json\n",
    "import requests\n",
    "from bs4 import BeautifulSoup\n",
    "import pandas as pd\n",
    "import matplotlib.pyplot as plt\n",
    "import seaborn as sns\n",
    "import numpy as np\n",
    "from datetime import datetime"
   ]
  },
  {
   "cell_type": "markdown",
   "metadata": {},
   "source": [
    "## Introduction"
   ]
  },
  {
   "cell_type": "markdown",
   "metadata": {},
   "source": [
    "**Business Context.** The city of New York has seen a rise in the number of accidents on the roads in the city. They would like to know if the number of accidents have increased in the last few weeks. For all the reported accidents, they have collected details for each accident and have been maintaining records for the past year and a half (from January 2018 to August 2019). \n",
    "\n",
    "The city has contracted you to build visualizations that would help them identify patterns in accidents, which would help them take preventive actions to reduce the number of accidents in the future. They have certain parameters like borough, time of day, reason for accident, etc. Which they care about and which they would like to get specific information on."
   ]
  },
  {
   "cell_type": "markdown",
   "metadata": {},
   "source": [
    "**Business Problem.** Your task is to format the given data and provide visualizations that would answer the specific questions the client has, which are mentioned below."
   ]
  },
  {
   "cell_type": "markdown",
   "metadata": {},
   "source": [
    "**Analytical Context.** You are given a CSV file containing details about each accident like date, time, location of the accident, reason for the accident, types of vehicles involved, injury and death count, etc. The delimiter in the given CSV file is `;` instead of the default `,`. You will be performing the following tasks on the data:\n",
    "\n",
    "1. Extract data from Wikipedia\n",
    "2. Read, transform, and prepare data for visualization\n",
    "3. Perform analytics and construct visualizations of the data to identify patterns in the dataset\n",
    "        \n",
    "The client has a specific set of questions they would like to get answers to. You will need to provide visualizations to accompany these:\n",
    "\n",
    "1. How have the number of accidents fluctuated over the past year and a half? Have they increased over the time?\n",
    "2. For any particular day, during which hours are accidents most likely to occur?\n",
    "3. Are there more accidents on weekdays than weekends?\n",
    "4. What are the accidents count-to-area ratio per borough? Which boroughs have disproportionately large numbers of accidents for their size?\n",
    "5. For each borough, during which hours are accidents most likely to occur?\n",
    "6. What are the top 5 causes of accidents in the city? \n",
    "7. What types of vehicles are most involved in accidents per borough?\n",
    "8. What types of vehicles are most involved in deaths?"
   ]
  },
  {
   "cell_type": "markdown",
   "metadata": {},
   "source": [
    "## Fetch borough data from Wikipedia"
   ]
  },
  {
   "cell_type": "markdown",
   "metadata": {},
   "source": [
    "The client has requested analysis of the accidents-to-area ratio for boroughs. You will need to fetch the area of each borough from the Wikipedia page: https://en.wikipedia.org/wiki/Boroughs_of_New_York_City.\n",
    "\n",
    "Since we are fetching this resource from an external page, you should instead fetch the HTML document and store the results locally in a JSON file, so that you can parse it later when you need it. Create a folder named `data` and store the file inside it."
   ]
  },
  {
   "cell_type": "markdown",
   "metadata": {},
   "source": [
    "Insert **answer** below:"
   ]
  },
  {
   "cell_type": "code",
   "execution_count": 2,
   "metadata": {},
   "outputs": [],
   "source": [
    "#Request webpage\n",
    "url = \"https://en.wikipedia.org/wiki/Boroughs_of_New_York_City\"\n",
    "r = requests.get(url) \n",
    "soup = BeautifulSoup(r.content, 'html5lib')\n",
    "# Find all data in table, the web page has a table with the area information\n",
    "table_s = soup.find(\"table\", {\"class\":\"wikitable sortable\"})\n",
    "boroughs_s =table_s.findAll(\"a\")   \n",
    "data_s =table_s.findAll(\"td\")\n",
    "#Extract data from table\n",
    "boroughs =[]\n",
    "data = []\n",
    "for i in data_s:\n",
    "    line = i.getText()\n",
    "    if \"\" not in i:\n",
    "        if \",\" in line:\n",
    "            data.append(float(line.strip().replace(\",\",\"\")))\n",
    "        elif \".\" in line:\n",
    "            data.append(float(line.strip()))\n",
    "        else:\n",
    "            boroughs.append(line.strip())\n",
    "#Rehape list to convert to dataframe\n",
    "boroughs = np.reshape(boroughs,(7,2))\n",
    "data.append(np.nan)\n",
    "data = np.reshape(data,(7,7))\n",
    "#Create final dataframe\n",
    "df_boroughs = pd.DataFrame(boroughs, columns =['Borough', 'county'],)\n",
    "df_data = pd.DataFrame(data, columns = ['population_estimate', 'GPD_billions', 'GPD per capita', 'LandArea_miles', 'LandArea_km', 'Density_Person_sqMl', 'Density_Person_sqkm'])\n",
    "df_boroughs = pd.concat([df_boroughs,df_data], axis=1)\n",
    "df_boroughs = df_boroughs[:-2]\n"
   ]
  },
  {
   "cell_type": "markdown",
   "metadata": {},
   "source": [
    "For later usage, let's store the borough data into a JSON file in the already created `data` folder:"
   ]
  },
  {
   "cell_type": "code",
   "execution_count": 3,
   "metadata": {},
   "outputs": [],
   "source": [
    "df_boroughs.to_json(\"data/df_boroughs.json\")"
   ]
  },
  {
   "cell_type": "markdown",
   "metadata": {},
   "source": [
    "## Overview of the data"
   ]
  },
  {
   "cell_type": "markdown",
   "metadata": {},
   "source": [
    "Now that we've stored the borough data in a JSON file, we can re-open it and use it whenever we wish. We can use the `read_json()` function in `pandas` to do that:"
   ]
  },
  {
   "cell_type": "code",
   "execution_count": 4,
   "metadata": {},
   "outputs": [],
   "source": [
    "df_boroughs =pd.read_json(\"data/df_boroughs.json\")\n",
    "df = pd.read_csv('C:/Users/Laptop/Desktop/DS4/extended_case/week_1_extended_case_student/accidents.csv', delimiter=\";\")"
   ]
  },
  {
   "cell_type": "markdown",
   "metadata": {},
   "source": [
    "Let's go through the columns present in the dataframe:"
   ]
  },
  {
   "cell_type": "code",
   "execution_count": 5,
   "metadata": {},
   "outputs": [
    {
     "data": {
      "text/html": [
       "<div>\n",
       "<style scoped>\n",
       "    .dataframe tbody tr th:only-of-type {\n",
       "        vertical-align: middle;\n",
       "    }\n",
       "\n",
       "    .dataframe tbody tr th {\n",
       "        vertical-align: top;\n",
       "    }\n",
       "\n",
       "    .dataframe thead th {\n",
       "        text-align: right;\n",
       "    }\n",
       "</style>\n",
       "<table border=\"1\" class=\"dataframe\">\n",
       "  <thead>\n",
       "    <tr style=\"text-align: right;\">\n",
       "      <th></th>\n",
       "      <th>DATE</th>\n",
       "      <th>TIME</th>\n",
       "      <th>BOROUGH</th>\n",
       "      <th>ZIP CODE</th>\n",
       "      <th>LATITUDE</th>\n",
       "      <th>LONGITUDE</th>\n",
       "      <th>ON STREET NAME</th>\n",
       "      <th>NUMBER OF PEDESTRIANS INJURED</th>\n",
       "      <th>NUMBER OF PEDESTRIANS KILLED</th>\n",
       "      <th>NUMBER OF CYCLIST INJURED</th>\n",
       "      <th>...</th>\n",
       "      <th>CONTRIBUTING FACTOR VEHICLE 3</th>\n",
       "      <th>CONTRIBUTING FACTOR VEHICLE 4</th>\n",
       "      <th>CONTRIBUTING FACTOR VEHICLE 5</th>\n",
       "      <th>COLLISION_ID</th>\n",
       "      <th>VEHICLE TYPE CODE 1</th>\n",
       "      <th>VEHICLE TYPE CODE 2</th>\n",
       "      <th>VEHICLE TYPE CODE 3</th>\n",
       "      <th>VEHICLE TYPE CODE 4</th>\n",
       "      <th>VEHICLE TYPE CODE 5</th>\n",
       "      <th>DATETIME</th>\n",
       "    </tr>\n",
       "  </thead>\n",
       "  <tbody>\n",
       "    <tr>\n",
       "      <th>0</th>\n",
       "      <td>09/26/2018</td>\n",
       "      <td>12:12</td>\n",
       "      <td>BRONX</td>\n",
       "      <td>10454.0</td>\n",
       "      <td>40.808987</td>\n",
       "      <td>-73.911316</td>\n",
       "      <td>NaN</td>\n",
       "      <td>0</td>\n",
       "      <td>0</td>\n",
       "      <td>0</td>\n",
       "      <td>...</td>\n",
       "      <td>NaN</td>\n",
       "      <td>NaN</td>\n",
       "      <td>NaN</td>\n",
       "      <td>3988123</td>\n",
       "      <td>Sedan</td>\n",
       "      <td>NaN</td>\n",
       "      <td>NaN</td>\n",
       "      <td>NaN</td>\n",
       "      <td>NaN</td>\n",
       "      <td>09/26/2018 12:12</td>\n",
       "    </tr>\n",
       "    <tr>\n",
       "      <th>1</th>\n",
       "      <td>09/25/2018</td>\n",
       "      <td>16:30</td>\n",
       "      <td>BROOKLYN</td>\n",
       "      <td>11236.0</td>\n",
       "      <td>40.636005</td>\n",
       "      <td>-73.912510</td>\n",
       "      <td>FLATLANDS AVENUE</td>\n",
       "      <td>1</td>\n",
       "      <td>0</td>\n",
       "      <td>0</td>\n",
       "      <td>...</td>\n",
       "      <td>NaN</td>\n",
       "      <td>NaN</td>\n",
       "      <td>NaN</td>\n",
       "      <td>3987962</td>\n",
       "      <td>Sedan</td>\n",
       "      <td>NaN</td>\n",
       "      <td>NaN</td>\n",
       "      <td>NaN</td>\n",
       "      <td>NaN</td>\n",
       "      <td>09/25/2018 16:30</td>\n",
       "    </tr>\n",
       "    <tr>\n",
       "      <th>2</th>\n",
       "      <td>08/22/2019</td>\n",
       "      <td>19:30</td>\n",
       "      <td>QUEENS</td>\n",
       "      <td>11101.0</td>\n",
       "      <td>40.755490</td>\n",
       "      <td>-73.939530</td>\n",
       "      <td>NaN</td>\n",
       "      <td>0</td>\n",
       "      <td>0</td>\n",
       "      <td>0</td>\n",
       "      <td>...</td>\n",
       "      <td>NaN</td>\n",
       "      <td>NaN</td>\n",
       "      <td>NaN</td>\n",
       "      <td>4193132</td>\n",
       "      <td>Sedan</td>\n",
       "      <td>NaN</td>\n",
       "      <td>NaN</td>\n",
       "      <td>NaN</td>\n",
       "      <td>NaN</td>\n",
       "      <td>08/22/2019 19:30</td>\n",
       "    </tr>\n",
       "    <tr>\n",
       "      <th>3</th>\n",
       "      <td>09/23/2018</td>\n",
       "      <td>13:10</td>\n",
       "      <td>QUEENS</td>\n",
       "      <td>11367.0</td>\n",
       "      <td>NaN</td>\n",
       "      <td>NaN</td>\n",
       "      <td>MAIN STREET</td>\n",
       "      <td>0</td>\n",
       "      <td>0</td>\n",
       "      <td>1</td>\n",
       "      <td>...</td>\n",
       "      <td>NaN</td>\n",
       "      <td>NaN</td>\n",
       "      <td>NaN</td>\n",
       "      <td>3985962</td>\n",
       "      <td>Bike</td>\n",
       "      <td>Station Wagon/Sport Utility Vehicle</td>\n",
       "      <td>NaN</td>\n",
       "      <td>NaN</td>\n",
       "      <td>NaN</td>\n",
       "      <td>09/23/2018 13:10</td>\n",
       "    </tr>\n",
       "    <tr>\n",
       "      <th>4</th>\n",
       "      <td>08/20/2019</td>\n",
       "      <td>22:40</td>\n",
       "      <td>BRONX</td>\n",
       "      <td>10468.0</td>\n",
       "      <td>40.868336</td>\n",
       "      <td>-73.901270</td>\n",
       "      <td>NaN</td>\n",
       "      <td>0</td>\n",
       "      <td>0</td>\n",
       "      <td>0</td>\n",
       "      <td>...</td>\n",
       "      <td>NaN</td>\n",
       "      <td>NaN</td>\n",
       "      <td>NaN</td>\n",
       "      <td>4192111</td>\n",
       "      <td>Sedan</td>\n",
       "      <td>Sedan</td>\n",
       "      <td>NaN</td>\n",
       "      <td>NaN</td>\n",
       "      <td>NaN</td>\n",
       "      <td>08/20/2019 22:40</td>\n",
       "    </tr>\n",
       "  </tbody>\n",
       "</table>\n",
       "<p>5 rows × 25 columns</p>\n",
       "</div>"
      ],
      "text/plain": [
       "         DATE   TIME   BOROUGH  ZIP CODE   LATITUDE  LONGITUDE  \\\n",
       "0  09/26/2018  12:12     BRONX   10454.0  40.808987 -73.911316   \n",
       "1  09/25/2018  16:30  BROOKLYN   11236.0  40.636005 -73.912510   \n",
       "2  08/22/2019  19:30    QUEENS   11101.0  40.755490 -73.939530   \n",
       "3  09/23/2018  13:10    QUEENS   11367.0        NaN        NaN   \n",
       "4  08/20/2019  22:40     BRONX   10468.0  40.868336 -73.901270   \n",
       "\n",
       "                     ON STREET NAME  NUMBER OF PEDESTRIANS INJURED  \\\n",
       "0                               NaN                              0   \n",
       "1  FLATLANDS AVENUE                                              1   \n",
       "2                               NaN                              0   \n",
       "3  MAIN STREET                                                   0   \n",
       "4                               NaN                              0   \n",
       "\n",
       "   NUMBER OF PEDESTRIANS KILLED  NUMBER OF CYCLIST INJURED  ...  \\\n",
       "0                             0                          0  ...   \n",
       "1                             0                          0  ...   \n",
       "2                             0                          0  ...   \n",
       "3                             0                          1  ...   \n",
       "4                             0                          0  ...   \n",
       "\n",
       "   CONTRIBUTING FACTOR VEHICLE 3  CONTRIBUTING FACTOR VEHICLE 4  \\\n",
       "0                            NaN                            NaN   \n",
       "1                            NaN                            NaN   \n",
       "2                            NaN                            NaN   \n",
       "3                            NaN                            NaN   \n",
       "4                            NaN                            NaN   \n",
       "\n",
       "   CONTRIBUTING FACTOR VEHICLE 5 COLLISION_ID VEHICLE TYPE CODE 1  \\\n",
       "0                            NaN      3988123               Sedan   \n",
       "1                            NaN      3987962               Sedan   \n",
       "2                            NaN      4193132               Sedan   \n",
       "3                            NaN      3985962                Bike   \n",
       "4                            NaN      4192111               Sedan   \n",
       "\n",
       "                   VEHICLE TYPE CODE 2 VEHICLE TYPE CODE 3  \\\n",
       "0                                  NaN                 NaN   \n",
       "1                                  NaN                 NaN   \n",
       "2                                  NaN                 NaN   \n",
       "3  Station Wagon/Sport Utility Vehicle                 NaN   \n",
       "4                                Sedan                 NaN   \n",
       "\n",
       "  VEHICLE TYPE CODE 4  VEHICLE TYPE CODE 5          DATETIME  \n",
       "0                 NaN                  NaN  09/26/2018 12:12  \n",
       "1                 NaN                  NaN  09/25/2018 16:30  \n",
       "2                 NaN                  NaN  08/22/2019 19:30  \n",
       "3                 NaN                  NaN  09/23/2018 13:10  \n",
       "4                 NaN                  NaN  08/20/2019 22:40  \n",
       "\n",
       "[5 rows x 25 columns]"
      ]
     },
     "execution_count": 5,
     "metadata": {},
     "output_type": "execute_result"
    }
   ],
   "source": [
    "df.columns\n",
    "df['DATETIME'] = df['DATE'] + \" \" + df['TIME']\n",
    "df.head()"
   ]
  },
  {
   "cell_type": "markdown",
   "metadata": {},
   "source": [
    "We have the following columns\n",
    "\n",
    "1. **Borough**: The borough in which the accident occured\n",
    "2. **COLLISION_ID**: A unique identifier for this collision\n",
    "3. **CONTRIBUTING FACTOR VEHICLE (1, 2, 3, 4, 5)**: Reasons for the accident\n",
    "4. **CROSS STREET NAME**: Nearest cross street to the place of accidents\n",
    "5. **DATE**: Date of the accident\n",
    "6. **TIME**: Time of accident\n",
    "7. **DATETIME**: The column we previously created with the combination of date and time\n",
    "8. **LATITUDE**: Latitude of the accident\n",
    "9. **LONGITUDE**: Longitude of the accident\n",
    "10. **NUMBER OF (CYCLIST, MOTORIST, PEDESTRIANS) INJURED**: Category wise injury\n",
    "11. **NUMBER OF (CYCLIST, MOTORIST, PEDESTRIANS) KILLED**: Category wise death\n",
    "12. **ON STREET NAME**: Street where the accident occured\n",
    "13. **TOTAL INJURED**: Total injury from the accident\n",
    "14. **TOTAL KILLED**: Total casualties in the accident\n",
    "15. **VEHICLE TYPE CODE (1, 2, 3, 4, 5)**: Types of vehicles involved in the accident\n",
    "16. **ZIP CODE**: zip code of the accident location"
   ]
  },
  {
   "cell_type": "code",
   "execution_count": 6,
   "metadata": {},
   "outputs": [
    {
     "data": {
      "text/html": [
       "<div>\n",
       "<style scoped>\n",
       "    .dataframe tbody tr th:only-of-type {\n",
       "        vertical-align: middle;\n",
       "    }\n",
       "\n",
       "    .dataframe tbody tr th {\n",
       "        vertical-align: top;\n",
       "    }\n",
       "\n",
       "    .dataframe thead th {\n",
       "        text-align: right;\n",
       "    }\n",
       "</style>\n",
       "<table border=\"1\" class=\"dataframe\">\n",
       "  <thead>\n",
       "    <tr style=\"text-align: right;\">\n",
       "      <th></th>\n",
       "      <th>DATE</th>\n",
       "      <th>TIME</th>\n",
       "      <th>BOROUGH</th>\n",
       "      <th>ZIP CODE</th>\n",
       "      <th>LATITUDE</th>\n",
       "      <th>LONGITUDE</th>\n",
       "      <th>ON STREET NAME</th>\n",
       "      <th>NUMBER OF PEDESTRIANS INJURED</th>\n",
       "      <th>NUMBER OF PEDESTRIANS KILLED</th>\n",
       "      <th>NUMBER OF CYCLIST INJURED</th>\n",
       "      <th>...</th>\n",
       "      <th>CONTRIBUTING FACTOR VEHICLE 3</th>\n",
       "      <th>CONTRIBUTING FACTOR VEHICLE 4</th>\n",
       "      <th>CONTRIBUTING FACTOR VEHICLE 5</th>\n",
       "      <th>COLLISION_ID</th>\n",
       "      <th>VEHICLE TYPE CODE 1</th>\n",
       "      <th>VEHICLE TYPE CODE 2</th>\n",
       "      <th>VEHICLE TYPE CODE 3</th>\n",
       "      <th>VEHICLE TYPE CODE 4</th>\n",
       "      <th>VEHICLE TYPE CODE 5</th>\n",
       "      <th>DATETIME</th>\n",
       "    </tr>\n",
       "  </thead>\n",
       "  <tbody>\n",
       "    <tr>\n",
       "      <th>0</th>\n",
       "      <td>09/26/2018</td>\n",
       "      <td>12:12</td>\n",
       "      <td>BRONX</td>\n",
       "      <td>10454.0</td>\n",
       "      <td>40.808987</td>\n",
       "      <td>-73.911316</td>\n",
       "      <td>NaN</td>\n",
       "      <td>0</td>\n",
       "      <td>0</td>\n",
       "      <td>0</td>\n",
       "      <td>...</td>\n",
       "      <td>NaN</td>\n",
       "      <td>NaN</td>\n",
       "      <td>NaN</td>\n",
       "      <td>3988123</td>\n",
       "      <td>Sedan</td>\n",
       "      <td>NaN</td>\n",
       "      <td>NaN</td>\n",
       "      <td>NaN</td>\n",
       "      <td>NaN</td>\n",
       "      <td>09/26/2018 12:12</td>\n",
       "    </tr>\n",
       "    <tr>\n",
       "      <th>1</th>\n",
       "      <td>09/25/2018</td>\n",
       "      <td>16:30</td>\n",
       "      <td>BROOKLYN</td>\n",
       "      <td>11236.0</td>\n",
       "      <td>40.636005</td>\n",
       "      <td>-73.912510</td>\n",
       "      <td>FLATLANDS AVENUE</td>\n",
       "      <td>1</td>\n",
       "      <td>0</td>\n",
       "      <td>0</td>\n",
       "      <td>...</td>\n",
       "      <td>NaN</td>\n",
       "      <td>NaN</td>\n",
       "      <td>NaN</td>\n",
       "      <td>3987962</td>\n",
       "      <td>Sedan</td>\n",
       "      <td>NaN</td>\n",
       "      <td>NaN</td>\n",
       "      <td>NaN</td>\n",
       "      <td>NaN</td>\n",
       "      <td>09/25/2018 16:30</td>\n",
       "    </tr>\n",
       "    <tr>\n",
       "      <th>2</th>\n",
       "      <td>08/22/2019</td>\n",
       "      <td>19:30</td>\n",
       "      <td>QUEENS</td>\n",
       "      <td>11101.0</td>\n",
       "      <td>40.755490</td>\n",
       "      <td>-73.939530</td>\n",
       "      <td>NaN</td>\n",
       "      <td>0</td>\n",
       "      <td>0</td>\n",
       "      <td>0</td>\n",
       "      <td>...</td>\n",
       "      <td>NaN</td>\n",
       "      <td>NaN</td>\n",
       "      <td>NaN</td>\n",
       "      <td>4193132</td>\n",
       "      <td>Sedan</td>\n",
       "      <td>NaN</td>\n",
       "      <td>NaN</td>\n",
       "      <td>NaN</td>\n",
       "      <td>NaN</td>\n",
       "      <td>08/22/2019 19:30</td>\n",
       "    </tr>\n",
       "    <tr>\n",
       "      <th>3</th>\n",
       "      <td>09/23/2018</td>\n",
       "      <td>13:10</td>\n",
       "      <td>QUEENS</td>\n",
       "      <td>11367.0</td>\n",
       "      <td>NaN</td>\n",
       "      <td>NaN</td>\n",
       "      <td>MAIN STREET</td>\n",
       "      <td>0</td>\n",
       "      <td>0</td>\n",
       "      <td>1</td>\n",
       "      <td>...</td>\n",
       "      <td>NaN</td>\n",
       "      <td>NaN</td>\n",
       "      <td>NaN</td>\n",
       "      <td>3985962</td>\n",
       "      <td>Bike</td>\n",
       "      <td>Station Wagon/Sport Utility Vehicle</td>\n",
       "      <td>NaN</td>\n",
       "      <td>NaN</td>\n",
       "      <td>NaN</td>\n",
       "      <td>09/23/2018 13:10</td>\n",
       "    </tr>\n",
       "    <tr>\n",
       "      <th>4</th>\n",
       "      <td>08/20/2019</td>\n",
       "      <td>22:40</td>\n",
       "      <td>BRONX</td>\n",
       "      <td>10468.0</td>\n",
       "      <td>40.868336</td>\n",
       "      <td>-73.901270</td>\n",
       "      <td>NaN</td>\n",
       "      <td>0</td>\n",
       "      <td>0</td>\n",
       "      <td>0</td>\n",
       "      <td>...</td>\n",
       "      <td>NaN</td>\n",
       "      <td>NaN</td>\n",
       "      <td>NaN</td>\n",
       "      <td>4192111</td>\n",
       "      <td>Sedan</td>\n",
       "      <td>Sedan</td>\n",
       "      <td>NaN</td>\n",
       "      <td>NaN</td>\n",
       "      <td>NaN</td>\n",
       "      <td>08/20/2019 22:40</td>\n",
       "    </tr>\n",
       "  </tbody>\n",
       "</table>\n",
       "<p>5 rows × 25 columns</p>\n",
       "</div>"
      ],
      "text/plain": [
       "         DATE   TIME   BOROUGH  ZIP CODE   LATITUDE  LONGITUDE  \\\n",
       "0  09/26/2018  12:12     BRONX   10454.0  40.808987 -73.911316   \n",
       "1  09/25/2018  16:30  BROOKLYN   11236.0  40.636005 -73.912510   \n",
       "2  08/22/2019  19:30    QUEENS   11101.0  40.755490 -73.939530   \n",
       "3  09/23/2018  13:10    QUEENS   11367.0        NaN        NaN   \n",
       "4  08/20/2019  22:40     BRONX   10468.0  40.868336 -73.901270   \n",
       "\n",
       "                     ON STREET NAME  NUMBER OF PEDESTRIANS INJURED  \\\n",
       "0                               NaN                              0   \n",
       "1  FLATLANDS AVENUE                                              1   \n",
       "2                               NaN                              0   \n",
       "3  MAIN STREET                                                   0   \n",
       "4                               NaN                              0   \n",
       "\n",
       "   NUMBER OF PEDESTRIANS KILLED  NUMBER OF CYCLIST INJURED  ...  \\\n",
       "0                             0                          0  ...   \n",
       "1                             0                          0  ...   \n",
       "2                             0                          0  ...   \n",
       "3                             0                          1  ...   \n",
       "4                             0                          0  ...   \n",
       "\n",
       "   CONTRIBUTING FACTOR VEHICLE 3  CONTRIBUTING FACTOR VEHICLE 4  \\\n",
       "0                            NaN                            NaN   \n",
       "1                            NaN                            NaN   \n",
       "2                            NaN                            NaN   \n",
       "3                            NaN                            NaN   \n",
       "4                            NaN                            NaN   \n",
       "\n",
       "   CONTRIBUTING FACTOR VEHICLE 5 COLLISION_ID VEHICLE TYPE CODE 1  \\\n",
       "0                            NaN      3988123               Sedan   \n",
       "1                            NaN      3987962               Sedan   \n",
       "2                            NaN      4193132               Sedan   \n",
       "3                            NaN      3985962                Bike   \n",
       "4                            NaN      4192111               Sedan   \n",
       "\n",
       "                   VEHICLE TYPE CODE 2 VEHICLE TYPE CODE 3  \\\n",
       "0                                  NaN                 NaN   \n",
       "1                                  NaN                 NaN   \n",
       "2                                  NaN                 NaN   \n",
       "3  Station Wagon/Sport Utility Vehicle                 NaN   \n",
       "4                                Sedan                 NaN   \n",
       "\n",
       "  VEHICLE TYPE CODE 4  VEHICLE TYPE CODE 5          DATETIME  \n",
       "0                 NaN                  NaN  09/26/2018 12:12  \n",
       "1                 NaN                  NaN  09/25/2018 16:30  \n",
       "2                 NaN                  NaN  08/22/2019 19:30  \n",
       "3                 NaN                  NaN  09/23/2018 13:10  \n",
       "4                 NaN                  NaN  08/20/2019 22:40  \n",
       "\n",
       "[5 rows x 25 columns]"
      ]
     },
     "execution_count": 6,
     "metadata": {},
     "output_type": "execute_result"
    }
   ],
   "source": [
    "df['DateTime'] = pd.to_datetime(df['DATE'] + \" \" +df['TIME'], format='%m/%d/%Y %H:%M')"
   ]
  },
  {
   "cell_type": "markdown",
   "metadata": {},
   "source": [
    "Let's go ahead and answer each of the client's questions."
   ]
  },
  {
   "cell_type": "markdown",
   "metadata": {},
   "source": [
    "## Answering the client's questions"
   ]
  },
  {
   "cell_type": "markdown",
   "metadata": {},
   "source": [
    "### Part 1: Accidents over time"
   ]
  },
  {
   "cell_type": "markdown",
   "metadata": {},
   "source": [
    "Group the available data on a monthly basis and generate a line plot of accidents over time. Has the number of accidents increased over the past year and a half?"
   ]
  },
  {
   "cell_type": "markdown",
   "metadata": {},
   "source": [
    "Insert **answer** below:"
   ]
  },
  {
   "cell_type": "code",
   "execution_count": 7,
   "metadata": {},
   "outputs": [],
   "source": [
    "df['YearMonth'] = df['DateTime'].map(lambda x: 100*x.year + x.month)\n",
    "df['YearMonth_dt'] = df['YearMonth'].apply(lambda x: datetime.strptime(str(x), \"%Y%m\"))"
   ]
  },
  {
   "cell_type": "code",
   "execution_count": 8,
   "metadata": {},
   "outputs": [],
   "source": [
    "df_acc = df.groupby(['YearMonth_dt']).count().reset_index()"
   ]
  },
  {
   "cell_type": "code",
   "execution_count": 10,
   "metadata": {},
   "outputs": [
    {
     "data": {
      "image/png": "[encoded data removed]",
      "text/plain": [
       "<Figure size 1080x288 with 1 Axes>"
      ]
     },
     "metadata": {
      "needs_background": "light"
     },
     "output_type": "display_data"
    }
   ],
   "source": [
    "plt.figure(figsize=(15, 4))\n",
    "plt.plot(df_acc['YearMonth_dt'],df_acc['NUMBER OF PEDESTRIANS INJURED'])\n",
    "plt.title('Number of accidents');\n",
    "plt.xlabel('Time');\n",
    "plt.ylabel(\"Accidents\");"
   ]
  },
  {
   "cell_type": "markdown",
   "metadata": {},
   "source": [
    "**Type your answer to the question in this cell**"
   ]
  },
  {
   "cell_type": "markdown",
   "metadata": {},
   "source": [
    "### Part 2: Accident hotspots in a day"
   ]
  },
  {
   "cell_type": "markdown",
   "metadata": {},
   "source": [
    "How does the number of accidents vary throughout a single day? Create a new column `HOUR` based on the data from the `DATETIME` column, then plot a bar graph of the distribution per hour throughout the day."
   ]
  },
  {
   "cell_type": "markdown",
   "metadata": {},
   "source": [
    "Insert **answer** below:"
   ]
  },
  {
   "cell_type": "code",
   "execution_count": 11,
   "metadata": {},
   "outputs": [
    {
     "data": {
      "text/html": [
       "<div>\n",
       "<style scoped>\n",
       "    .dataframe tbody tr th:only-of-type {\n",
       "        vertical-align: middle;\n",
       "    }\n",
       "\n",
       "    .dataframe tbody tr th {\n",
       "        vertical-align: top;\n",
       "    }\n",
       "\n",
       "    .dataframe thead th {\n",
       "        text-align: right;\n",
       "    }\n",
       "</style>\n",
       "<table border=\"1\" class=\"dataframe\">\n",
       "  <thead>\n",
       "    <tr style=\"text-align: right;\">\n",
       "      <th></th>\n",
       "      <th>DATE</th>\n",
       "      <th>TIME</th>\n",
       "      <th>BOROUGH</th>\n",
       "      <th>ZIP CODE</th>\n",
       "      <th>LATITUDE</th>\n",
       "      <th>LONGITUDE</th>\n",
       "      <th>ON STREET NAME</th>\n",
       "      <th>NUMBER OF PEDESTRIANS INJURED</th>\n",
       "      <th>NUMBER OF PEDESTRIANS KILLED</th>\n",
       "      <th>NUMBER OF CYCLIST INJURED</th>\n",
       "      <th>...</th>\n",
       "      <th>VEHICLE TYPE CODE 1</th>\n",
       "      <th>VEHICLE TYPE CODE 2</th>\n",
       "      <th>VEHICLE TYPE CODE 3</th>\n",
       "      <th>VEHICLE TYPE CODE 4</th>\n",
       "      <th>VEHICLE TYPE CODE 5</th>\n",
       "      <th>DATETIME</th>\n",
       "      <th>DateTime</th>\n",
       "      <th>YearMonth</th>\n",
       "      <th>YearMonth_dt</th>\n",
       "      <th>HOUR</th>\n",
       "    </tr>\n",
       "  </thead>\n",
       "  <tbody>\n",
       "    <tr>\n",
       "      <th>0</th>\n",
       "      <td>09/26/2018</td>\n",
       "      <td>12:12</td>\n",
       "      <td>BRONX</td>\n",
       "      <td>10454.0</td>\n",
       "      <td>40.808987</td>\n",
       "      <td>-73.911316</td>\n",
       "      <td>NaN</td>\n",
       "      <td>0</td>\n",
       "      <td>0</td>\n",
       "      <td>0</td>\n",
       "      <td>...</td>\n",
       "      <td>Sedan</td>\n",
       "      <td>NaN</td>\n",
       "      <td>NaN</td>\n",
       "      <td>NaN</td>\n",
       "      <td>NaN</td>\n",
       "      <td>09/26/2018 12:12</td>\n",
       "      <td>2018-09-26 12:12:00</td>\n",
       "      <td>201809</td>\n",
       "      <td>2018-09-01</td>\n",
       "      <td>12</td>\n",
       "    </tr>\n",
       "    <tr>\n",
       "      <th>1</th>\n",
       "      <td>09/25/2018</td>\n",
       "      <td>16:30</td>\n",
       "      <td>BROOKLYN</td>\n",
       "      <td>11236.0</td>\n",
       "      <td>40.636005</td>\n",
       "      <td>-73.912510</td>\n",
       "      <td>FLATLANDS AVENUE</td>\n",
       "      <td>1</td>\n",
       "      <td>0</td>\n",
       "      <td>0</td>\n",
       "      <td>...</td>\n",
       "      <td>Sedan</td>\n",
       "      <td>NaN</td>\n",
       "      <td>NaN</td>\n",
       "      <td>NaN</td>\n",
       "      <td>NaN</td>\n",
       "      <td>09/25/2018 16:30</td>\n",
       "      <td>2018-09-25 16:30:00</td>\n",
       "      <td>201809</td>\n",
       "      <td>2018-09-01</td>\n",
       "      <td>16</td>\n",
       "    </tr>\n",
       "    <tr>\n",
       "      <th>2</th>\n",
       "      <td>08/22/2019</td>\n",
       "      <td>19:30</td>\n",
       "      <td>QUEENS</td>\n",
       "      <td>11101.0</td>\n",
       "      <td>40.755490</td>\n",
       "      <td>-73.939530</td>\n",
       "      <td>NaN</td>\n",
       "      <td>0</td>\n",
       "      <td>0</td>\n",
       "      <td>0</td>\n",
       "      <td>...</td>\n",
       "      <td>Sedan</td>\n",
       "      <td>NaN</td>\n",
       "      <td>NaN</td>\n",
       "      <td>NaN</td>\n",
       "      <td>NaN</td>\n",
       "      <td>08/22/2019 19:30</td>\n",
       "      <td>2019-08-22 19:30:00</td>\n",
       "      <td>201908</td>\n",
       "      <td>2019-08-01</td>\n",
       "      <td>19</td>\n",
       "    </tr>\n",
       "    <tr>\n",
       "      <th>3</th>\n",
       "      <td>09/23/2018</td>\n",
       "      <td>13:10</td>\n",
       "      <td>QUEENS</td>\n",
       "      <td>11367.0</td>\n",
       "      <td>NaN</td>\n",
       "      <td>NaN</td>\n",
       "      <td>MAIN STREET</td>\n",
       "      <td>0</td>\n",
       "      <td>0</td>\n",
       "      <td>1</td>\n",
       "      <td>...</td>\n",
       "      <td>Bike</td>\n",
       "      <td>Station Wagon/Sport Utility Vehicle</td>\n",
       "      <td>NaN</td>\n",
       "      <td>NaN</td>\n",
       "      <td>NaN</td>\n",
       "      <td>09/23/2018 13:10</td>\n",
       "      <td>2018-09-23 13:10:00</td>\n",
       "      <td>201809</td>\n",
       "      <td>2018-09-01</td>\n",
       "      <td>13</td>\n",
       "    </tr>\n",
       "    <tr>\n",
       "      <th>4</th>\n",
       "      <td>08/20/2019</td>\n",
       "      <td>22:40</td>\n",
       "      <td>BRONX</td>\n",
       "      <td>10468.0</td>\n",
       "      <td>40.868336</td>\n",
       "      <td>-73.901270</td>\n",
       "      <td>NaN</td>\n",
       "      <td>0</td>\n",
       "      <td>0</td>\n",
       "      <td>0</td>\n",
       "      <td>...</td>\n",
       "      <td>Sedan</td>\n",
       "      <td>Sedan</td>\n",
       "      <td>NaN</td>\n",
       "      <td>NaN</td>\n",
       "      <td>NaN</td>\n",
       "      <td>08/20/2019 22:40</td>\n",
       "      <td>2019-08-20 22:40:00</td>\n",
       "      <td>201908</td>\n",
       "      <td>2019-08-01</td>\n",
       "      <td>22</td>\n",
       "    </tr>\n",
       "  </tbody>\n",
       "</table>\n",
       "<p>5 rows × 29 columns</p>\n",
       "</div>"
      ],
      "text/plain": [
       "         DATE   TIME   BOROUGH  ZIP CODE   LATITUDE  LONGITUDE  \\\n",
       "0  09/26/2018  12:12     BRONX   10454.0  40.808987 -73.911316   \n",
       "1  09/25/2018  16:30  BROOKLYN   11236.0  40.636005 -73.912510   \n",
       "2  08/22/2019  19:30    QUEENS   11101.0  40.755490 -73.939530   \n",
       "3  09/23/2018  13:10    QUEENS   11367.0        NaN        NaN   \n",
       "4  08/20/2019  22:40     BRONX   10468.0  40.868336 -73.901270   \n",
       "\n",
       "                     ON STREET NAME  NUMBER OF PEDESTRIANS INJURED  \\\n",
       "0                               NaN                              0   \n",
       "1  FLATLANDS AVENUE                                              1   \n",
       "2                               NaN                              0   \n",
       "3  MAIN STREET                                                   0   \n",
       "4                               NaN                              0   \n",
       "\n",
       "   NUMBER OF PEDESTRIANS KILLED  NUMBER OF CYCLIST INJURED  ...  \\\n",
       "0                             0                          0  ...   \n",
       "1                             0                          0  ...   \n",
       "2                             0                          0  ...   \n",
       "3                             0                          1  ...   \n",
       "4                             0                          0  ...   \n",
       "\n",
       "   VEHICLE TYPE CODE 1                  VEHICLE TYPE CODE 2  \\\n",
       "0                Sedan                                  NaN   \n",
       "1                Sedan                                  NaN   \n",
       "2                Sedan                                  NaN   \n",
       "3                 Bike  Station Wagon/Sport Utility Vehicle   \n",
       "4                Sedan                                Sedan   \n",
       "\n",
       "   VEHICLE TYPE CODE 3 VEHICLE TYPE CODE 4 VEHICLE TYPE CODE 5  \\\n",
       "0                  NaN                 NaN                 NaN   \n",
       "1                  NaN                 NaN                 NaN   \n",
       "2                  NaN                 NaN                 NaN   \n",
       "3                  NaN                 NaN                 NaN   \n",
       "4                  NaN                 NaN                 NaN   \n",
       "\n",
       "           DATETIME            DateTime YearMonth  YearMonth_dt HOUR  \n",
       "0  09/26/2018 12:12 2018-09-26 12:12:00    201809    2018-09-01   12  \n",
       "1  09/25/2018 16:30 2018-09-25 16:30:00    201809    2018-09-01   16  \n",
       "2  08/22/2019 19:30 2019-08-22 19:30:00    201908    2019-08-01   19  \n",
       "3  09/23/2018 13:10 2018-09-23 13:10:00    201809    2018-09-01   13  \n",
       "4  08/20/2019 22:40 2019-08-20 22:40:00    201908    2019-08-01   22  \n",
       "\n",
       "[5 rows x 29 columns]"
      ]
     },
     "execution_count": 11,
     "metadata": {},
     "output_type": "execute_result"
    }
   ],
   "source": [
    "df['HOUR'] = df['DateTime'].dt.hour\n",
    "df.head()"
   ]
  },
  {
   "cell_type": "code",
   "execution_count": 12,
   "metadata": {},
   "outputs": [
    {
     "data": {
      "text/html": [
       "<div>\n",
       "<style scoped>\n",
       "    .dataframe tbody tr th:only-of-type {\n",
       "        vertical-align: middle;\n",
       "    }\n",
       "\n",
       "    .dataframe tbody tr th {\n",
       "        vertical-align: top;\n",
       "    }\n",
       "\n",
       "    .dataframe thead th {\n",
       "        text-align: right;\n",
       "    }\n",
       "</style>\n",
       "<table border=\"1\" class=\"dataframe\">\n",
       "  <thead>\n",
       "    <tr style=\"text-align: right;\">\n",
       "      <th></th>\n",
       "      <th>HOUR</th>\n",
       "      <th>NUMBER OF PEDESTRIANS INJURED</th>\n",
       "    </tr>\n",
       "  </thead>\n",
       "  <tbody>\n",
       "    <tr>\n",
       "      <th>0</th>\n",
       "      <td>0</td>\n",
       "      <td>13</td>\n",
       "    </tr>\n",
       "    <tr>\n",
       "      <th>1</th>\n",
       "      <td>1</td>\n",
       "      <td>6</td>\n",
       "    </tr>\n",
       "    <tr>\n",
       "      <th>2</th>\n",
       "      <td>2</td>\n",
       "      <td>3</td>\n",
       "    </tr>\n",
       "    <tr>\n",
       "      <th>3</th>\n",
       "      <td>3</td>\n",
       "      <td>3</td>\n",
       "    </tr>\n",
       "    <tr>\n",
       "      <th>4</th>\n",
       "      <td>4</td>\n",
       "      <td>4</td>\n",
       "    </tr>\n",
       "  </tbody>\n",
       "</table>\n",
       "</div>"
      ],
      "text/plain": [
       "   HOUR  NUMBER OF PEDESTRIANS INJURED\n",
       "0     0                             13\n",
       "1     1                              6\n",
       "2     2                              3\n",
       "3     3                              3\n",
       "4     4                              4"
      ]
     },
     "execution_count": 12,
     "metadata": {},
     "output_type": "execute_result"
    }
   ],
   "source": [
    "var_date = \"09/26/2018\"\n",
    "df_day = df[df['DATE'] == var_date].groupby(df['HOUR']).count()[['NUMBER OF PEDESTRIANS INJURED']].reset_index()\n",
    "df_day.head()"
   ]
  },
  {
   "cell_type": "code",
   "execution_count": 55,
   "metadata": {},
   "outputs": [
    {
     "data": {
      "image/png": "[encoded data removed]",
      "text/plain": [
       "<Figure size 2160x720 with 1 Axes>"
      ]
     },
     "metadata": {
      "needs_background": "light"
     },
     "output_type": "display_data"
    }
   ],
   "source": [
    "import matplotlib.dates as mdates\n",
    "fig, ax = plt.subplots(figsize=(30,10))\n",
    "ax.bar(df_day['HOUR'], df_day['NUMBER OF PEDESTRIANS INJURED'], 0.5)\n",
    "plt.ylabel('Accidents')\n",
    "plt.xlabel('Hours')\n",
    "plt.title('Number of accidents:' + var_date);\n",
    "\n"
   ]
  },
  {
   "cell_type": "markdown",
   "metadata": {},
   "source": [
    "**Type your answer to the question in this cell**"
   ]
  },
  {
   "cell_type": "markdown",
   "metadata": {},
   "source": [
    "### Part 3: Accidents by weekday"
   ]
  },
  {
   "cell_type": "markdown",
   "metadata": {},
   "source": [
    "How does the number of accidents vary throughout a single week? Plot a bar graph based on the accidents count by day of the week."
   ]
  },
  {
   "cell_type": "markdown",
   "metadata": {},
   "source": [
    "Insert **answer** below:"
   ]
  },
  {
   "cell_type": "code",
   "execution_count": 13,
   "metadata": {},
   "outputs": [],
   "source": [
    "df['week'] = df['DateTime'].dt.week\n",
    "df['dayofweek'] = df['DateTime'].dt.dayofweek"
   ]
  },
  {
   "cell_type": "code",
   "execution_count": 14,
   "metadata": {},
   "outputs": [
    {
     "data": {
      "text/html": [
       "<div>\n",
       "<style scoped>\n",
       "    .dataframe tbody tr th:only-of-type {\n",
       "        vertical-align: middle;\n",
       "    }\n",
       "\n",
       "    .dataframe tbody tr th {\n",
       "        vertical-align: top;\n",
       "    }\n",
       "\n",
       "    .dataframe thead th {\n",
       "        text-align: right;\n",
       "    }\n",
       "</style>\n",
       "<table border=\"1\" class=\"dataframe\">\n",
       "  <thead>\n",
       "    <tr style=\"text-align: right;\">\n",
       "      <th></th>\n",
       "      <th>dayofweek</th>\n",
       "      <th>NUMBER OF PEDESTRIANS INJURED</th>\n",
       "    </tr>\n",
       "  </thead>\n",
       "  <tbody>\n",
       "    <tr>\n",
       "      <th>0</th>\n",
       "      <td>0</td>\n",
       "      <td>408</td>\n",
       "    </tr>\n",
       "    <tr>\n",
       "      <th>1</th>\n",
       "      <td>1</td>\n",
       "      <td>470</td>\n",
       "    </tr>\n",
       "    <tr>\n",
       "      <th>2</th>\n",
       "      <td>2</td>\n",
       "      <td>458</td>\n",
       "    </tr>\n",
       "    <tr>\n",
       "      <th>3</th>\n",
       "      <td>3</td>\n",
       "      <td>440</td>\n",
       "    </tr>\n",
       "    <tr>\n",
       "      <th>4</th>\n",
       "      <td>4</td>\n",
       "      <td>464</td>\n",
       "    </tr>\n",
       "  </tbody>\n",
       "</table>\n",
       "</div>"
      ],
      "text/plain": [
       "   dayofweek  NUMBER OF PEDESTRIANS INJURED\n",
       "0          0                            408\n",
       "1          1                            470\n",
       "2          2                            458\n",
       "3          3                            440\n",
       "4          4                            464"
      ]
     },
     "execution_count": 14,
     "metadata": {},
     "output_type": "execute_result"
    }
   ],
   "source": [
    "var_week = 39\n",
    "df_week = df[df['week'] == var_week].groupby(df['dayofweek']).count()[['NUMBER OF PEDESTRIANS INJURED']].reset_index()\n",
    "df_week.head()"
   ]
  },
  {
   "cell_type": "code",
   "execution_count": 15,
   "metadata": {},
   "outputs": [
    {
     "data": {
      "image/png": "[encoded data removed]",
      "text/plain": [
       "<Figure size 1440x720 with 1 Axes>"
      ]
     },
     "metadata": {
      "needs_background": "light"
     },
     "output_type": "display_data"
    }
   ],
   "source": [
    "fig, ax = plt.subplots(figsize=(20,10))\n",
    "ax.bar(df_week['dayofweek'], df_week['NUMBER OF PEDESTRIANS INJURED'], 0.5)\n",
    "plt.ylabel('Accidents')\n",
    "plt.xlabel('days')\n",
    "plt.title('Number of accidents week:' + str(var_week));\n"
   ]
  },
  {
   "cell_type": "markdown",
   "metadata": {},
   "source": [
    "**Type your answer to the question in this cell**"
   ]
  },
  {
   "cell_type": "markdown",
   "metadata": {},
   "source": [
    "### Part 4: Borough analysis"
   ]
  },
  {
   "cell_type": "markdown",
   "metadata": {},
   "source": [
    "Plot a bar graph of the total number of accidents in each borough, as well as one of the accidents per square kilometer per borough. What can you conclude?"
   ]
  },
  {
   "cell_type": "markdown",
   "metadata": {},
   "source": [
    "Insert **answer** below:"
   ]
  },
  {
   "cell_type": "code",
   "execution_count": 16,
   "metadata": {},
   "outputs": [
    {
     "data": {
      "text/html": [
       "<div>\n",
       "<style scoped>\n",
       "    .dataframe tbody tr th:only-of-type {\n",
       "        vertical-align: middle;\n",
       "    }\n",
       "\n",
       "    .dataframe tbody tr th {\n",
       "        vertical-align: top;\n",
       "    }\n",
       "\n",
       "    .dataframe thead th {\n",
       "        text-align: right;\n",
       "    }\n",
       "</style>\n",
       "<table border=\"1\" class=\"dataframe\">\n",
       "  <thead>\n",
       "    <tr style=\"text-align: right;\">\n",
       "      <th></th>\n",
       "      <th>ZIP CODE</th>\n",
       "      <th>NUMBER OF PEDESTRIANS INJURED</th>\n",
       "      <th>NUMBER OF PEDESTRIANS KILLED</th>\n",
       "      <th>NUMBER OF CYCLIST INJURED</th>\n",
       "      <th>NUMBER OF CYCLIST KILLED</th>\n",
       "      <th>NUMBER OF MOTORIST INJURED</th>\n",
       "      <th>NUMBER OF MOTORIST KILLED</th>\n",
       "    </tr>\n",
       "    <tr>\n",
       "      <th>BOROUGH</th>\n",
       "      <th></th>\n",
       "      <th></th>\n",
       "      <th></th>\n",
       "      <th></th>\n",
       "      <th></th>\n",
       "      <th></th>\n",
       "      <th></th>\n",
       "    </tr>\n",
       "  </thead>\n",
       "  <tbody>\n",
       "    <tr>\n",
       "      <th>BRONX</th>\n",
       "      <td>37706</td>\n",
       "      <td>2299</td>\n",
       "      <td>15</td>\n",
       "      <td>597</td>\n",
       "      <td>1</td>\n",
       "      <td>7642</td>\n",
       "      <td>10</td>\n",
       "    </tr>\n",
       "    <tr>\n",
       "      <th>BROOKLYN</th>\n",
       "      <td>76253</td>\n",
       "      <td>4412</td>\n",
       "      <td>39</td>\n",
       "      <td>2211</td>\n",
       "      <td>12</td>\n",
       "      <td>14962</td>\n",
       "      <td>24</td>\n",
       "    </tr>\n",
       "    <tr>\n",
       "      <th>MANHATTAN</th>\n",
       "      <td>48746</td>\n",
       "      <td>2750</td>\n",
       "      <td>25</td>\n",
       "      <td>1659</td>\n",
       "      <td>4</td>\n",
       "      <td>4365</td>\n",
       "      <td>7</td>\n",
       "    </tr>\n",
       "    <tr>\n",
       "      <th>QUEENS</th>\n",
       "      <td>67057</td>\n",
       "      <td>3229</td>\n",
       "      <td>43</td>\n",
       "      <td>1067</td>\n",
       "      <td>2</td>\n",
       "      <td>13612</td>\n",
       "      <td>28</td>\n",
       "    </tr>\n",
       "    <tr>\n",
       "      <th>STATEN ISLAND</th>\n",
       "      <td>8690</td>\n",
       "      <td>315</td>\n",
       "      <td>5</td>\n",
       "      <td>67</td>\n",
       "      <td>1</td>\n",
       "      <td>1894</td>\n",
       "      <td>5</td>\n",
       "    </tr>\n",
       "  </tbody>\n",
       "</table>\n",
       "</div>"
      ],
      "text/plain": [
       "               ZIP CODE  NUMBER OF PEDESTRIANS INJURED  \\\n",
       "BOROUGH                                                  \n",
       "BRONX             37706                           2299   \n",
       "BROOKLYN          76253                           4412   \n",
       "MANHATTAN         48746                           2750   \n",
       "QUEENS            67057                           3229   \n",
       "STATEN ISLAND      8690                            315   \n",
       "\n",
       "               NUMBER OF PEDESTRIANS KILLED  NUMBER OF CYCLIST INJURED  \\\n",
       "BOROUGH                                                                  \n",
       "BRONX                                    15                        597   \n",
       "BROOKLYN                                 39                       2211   \n",
       "MANHATTAN                                25                       1659   \n",
       "QUEENS                                   43                       1067   \n",
       "STATEN ISLAND                             5                         67   \n",
       "\n",
       "               NUMBER OF CYCLIST KILLED  NUMBER OF MOTORIST INJURED  \\\n",
       "BOROUGH                                                               \n",
       "BRONX                                 1                        7642   \n",
       "BROOKLYN                             12                       14962   \n",
       "MANHATTAN                             4                        4365   \n",
       "QUEENS                                2                       13612   \n",
       "STATEN ISLAND                         1                        1894   \n",
       "\n",
       "               NUMBER OF MOTORIST KILLED  \n",
       "BOROUGH                                   \n",
       "BRONX                                 10  \n",
       "BROOKLYN                              24  \n",
       "MANHATTAN                              7  \n",
       "QUEENS                                28  \n",
       "STATEN ISLAND                          5  "
      ]
     },
     "execution_count": 16,
     "metadata": {},
     "output_type": "execute_result"
    }
   ],
   "source": [
    "fun={\"ZIP CODE\":\"count\",\n",
    "       \"NUMBER OF PEDESTRIANS INJURED\":\"sum\",\n",
    "        \"NUMBER OF PEDESTRIANS KILLED\":\"sum\",\n",
    "        \"NUMBER OF CYCLIST INJURED\":\"sum\",\n",
    "        \"NUMBER OF CYCLIST KILLED\":\"sum\",\n",
    "        \"NUMBER OF MOTORIST INJURED\":\"sum\",\n",
    "        \"NUMBER OF MOTORIST KILLED\":\"sum\"}\n",
    "df_borough = df.groupby(['BOROUGH']).agg(fun)\n",
    "df_borough.head()"
   ]
  },
  {
   "cell_type": "code",
   "execution_count": 17,
   "metadata": {},
   "outputs": [
    {
     "data": {
      "text/plain": [
       "<BarContainer object of 5 artists>"
      ]
     },
     "execution_count": 17,
     "metadata": {},
     "output_type": "execute_result"
    },
    {
     "data": {
      "image/png": "[encoded data removed]",
      "text/plain": [
       "<Figure size 1440x720 with 1 Axes>"
      ]
     },
     "metadata": {
      "needs_background": "light"
     },
     "output_type": "display_data"
    }
   ],
   "source": [
    "fig, ax = plt.subplots(figsize=(20,10))\n",
    "ax.bar(df_borough.index, df_borough['ZIP CODE'], 0.5)"
   ]
  },
  {
   "cell_type": "markdown",
   "metadata": {},
   "source": [
    "**Type your answer to the question in this cell**"
   ]
  },
  {
   "cell_type": "code",
   "execution_count": 18,
   "metadata": {},
   "outputs": [
    {
     "data": {
      "text/html": [
       "<div>\n",
       "<style scoped>\n",
       "    .dataframe tbody tr th:only-of-type {\n",
       "        vertical-align: middle;\n",
       "    }\n",
       "\n",
       "    .dataframe tbody tr th {\n",
       "        vertical-align: top;\n",
       "    }\n",
       "\n",
       "    .dataframe thead th {\n",
       "        text-align: right;\n",
       "    }\n",
       "</style>\n",
       "<table border=\"1\" class=\"dataframe\">\n",
       "  <thead>\n",
       "    <tr style=\"text-align: right;\">\n",
       "      <th></th>\n",
       "      <th>BOROUGH</th>\n",
       "      <th>ZIP CODE</th>\n",
       "      <th>NUMBER OF PEDESTRIANS INJURED</th>\n",
       "      <th>NUMBER OF PEDESTRIANS KILLED</th>\n",
       "      <th>NUMBER OF CYCLIST INJURED</th>\n",
       "      <th>NUMBER OF CYCLIST KILLED</th>\n",
       "      <th>NUMBER OF MOTORIST INJURED</th>\n",
       "      <th>NUMBER OF MOTORIST KILLED</th>\n",
       "      <th>Borough</th>\n",
       "      <th>county</th>\n",
       "      <th>population_estimate</th>\n",
       "      <th>GPD_billions</th>\n",
       "      <th>GPD per capita</th>\n",
       "      <th>LandArea_miles</th>\n",
       "      <th>LandArea_km</th>\n",
       "      <th>Density_Person_sqMl</th>\n",
       "      <th>Density_Person_sqkm</th>\n",
       "      <th>accident km</th>\n",
       "    </tr>\n",
       "  </thead>\n",
       "  <tbody>\n",
       "    <tr>\n",
       "      <th>0</th>\n",
       "      <td>BRONX</td>\n",
       "      <td>37706</td>\n",
       "      <td>2299</td>\n",
       "      <td>15</td>\n",
       "      <td>597</td>\n",
       "      <td>1</td>\n",
       "      <td>7642</td>\n",
       "      <td>10</td>\n",
       "      <td>The Bronx</td>\n",
       "      <td>Bronx</td>\n",
       "      <td>1471160</td>\n",
       "      <td>28.787</td>\n",
       "      <td>19570</td>\n",
       "      <td>42.10</td>\n",
       "      <td>109.04</td>\n",
       "      <td>34653</td>\n",
       "      <td>13231</td>\n",
       "      <td>345.799707</td>\n",
       "    </tr>\n",
       "    <tr>\n",
       "      <th>1</th>\n",
       "      <td>BROOKLYN</td>\n",
       "      <td>76253</td>\n",
       "      <td>4412</td>\n",
       "      <td>39</td>\n",
       "      <td>2211</td>\n",
       "      <td>12</td>\n",
       "      <td>14962</td>\n",
       "      <td>24</td>\n",
       "      <td>Brooklyn</td>\n",
       "      <td>Kings</td>\n",
       "      <td>2648771</td>\n",
       "      <td>63.303</td>\n",
       "      <td>23900</td>\n",
       "      <td>70.82</td>\n",
       "      <td>183.42</td>\n",
       "      <td>37137</td>\n",
       "      <td>14649</td>\n",
       "      <td>415.728928</td>\n",
       "    </tr>\n",
       "    <tr>\n",
       "      <th>2</th>\n",
       "      <td>MANHATTAN</td>\n",
       "      <td>48746</td>\n",
       "      <td>2750</td>\n",
       "      <td>25</td>\n",
       "      <td>1659</td>\n",
       "      <td>4</td>\n",
       "      <td>4365</td>\n",
       "      <td>7</td>\n",
       "      <td>Manhattan</td>\n",
       "      <td>New York</td>\n",
       "      <td>1664727</td>\n",
       "      <td>629.682</td>\n",
       "      <td>378250</td>\n",
       "      <td>22.83</td>\n",
       "      <td>59.13</td>\n",
       "      <td>72033</td>\n",
       "      <td>27826</td>\n",
       "      <td>824.386944</td>\n",
       "    </tr>\n",
       "    <tr>\n",
       "      <th>3</th>\n",
       "      <td>QUEENS</td>\n",
       "      <td>67057</td>\n",
       "      <td>3229</td>\n",
       "      <td>43</td>\n",
       "      <td>1067</td>\n",
       "      <td>2</td>\n",
       "      <td>13612</td>\n",
       "      <td>28</td>\n",
       "      <td>Queens</td>\n",
       "      <td>Queens</td>\n",
       "      <td>2358582</td>\n",
       "      <td>73.842</td>\n",
       "      <td>31310</td>\n",
       "      <td>108.53</td>\n",
       "      <td>281.09</td>\n",
       "      <td>21460</td>\n",
       "      <td>8354</td>\n",
       "      <td>238.560603</td>\n",
       "    </tr>\n",
       "    <tr>\n",
       "      <th>4</th>\n",
       "      <td>STATEN ISLAND</td>\n",
       "      <td>8690</td>\n",
       "      <td>315</td>\n",
       "      <td>5</td>\n",
       "      <td>67</td>\n",
       "      <td>1</td>\n",
       "      <td>1894</td>\n",
       "      <td>5</td>\n",
       "      <td>Staten Island</td>\n",
       "      <td>Richmond</td>\n",
       "      <td>479458</td>\n",
       "      <td>11.249</td>\n",
       "      <td>23460</td>\n",
       "      <td>58.37</td>\n",
       "      <td>151.18</td>\n",
       "      <td>8112</td>\n",
       "      <td>3132</td>\n",
       "      <td>57.481148</td>\n",
       "    </tr>\n",
       "  </tbody>\n",
       "</table>\n",
       "</div>"
      ],
      "text/plain": [
       "         BOROUGH  ZIP CODE  NUMBER OF PEDESTRIANS INJURED  \\\n",
       "0          BRONX     37706                           2299   \n",
       "1       BROOKLYN     76253                           4412   \n",
       "2      MANHATTAN     48746                           2750   \n",
       "3         QUEENS     67057                           3229   \n",
       "4  STATEN ISLAND      8690                            315   \n",
       "\n",
       "   NUMBER OF PEDESTRIANS KILLED  NUMBER OF CYCLIST INJURED  \\\n",
       "0                            15                        597   \n",
       "1                            39                       2211   \n",
       "2                            25                       1659   \n",
       "3                            43                       1067   \n",
       "4                             5                         67   \n",
       "\n",
       "   NUMBER OF CYCLIST KILLED  NUMBER OF MOTORIST INJURED  \\\n",
       "0                         1                        7642   \n",
       "1                        12                       14962   \n",
       "2                         4                        4365   \n",
       "3                         2                       13612   \n",
       "4                         1                        1894   \n",
       "\n",
       "   NUMBER OF MOTORIST KILLED        Borough    county  population_estimate  \\\n",
       "0                         10      The Bronx     Bronx              1471160   \n",
       "1                         24       Brooklyn     Kings              2648771   \n",
       "2                          7      Manhattan  New York              1664727   \n",
       "3                         28         Queens    Queens              2358582   \n",
       "4                          5  Staten Island  Richmond               479458   \n",
       "\n",
       "   GPD_billions  GPD per capita  LandArea_miles  LandArea_km  \\\n",
       "0        28.787           19570           42.10       109.04   \n",
       "1        63.303           23900           70.82       183.42   \n",
       "2       629.682          378250           22.83        59.13   \n",
       "3        73.842           31310          108.53       281.09   \n",
       "4        11.249           23460           58.37       151.18   \n",
       "\n",
       "   Density_Person_sqMl  Density_Person_sqkm  accident km  \n",
       "0                34653                13231   345.799707  \n",
       "1                37137                14649   415.728928  \n",
       "2                72033                27826   824.386944  \n",
       "3                21460                 8354   238.560603  \n",
       "4                 8112                 3132    57.481148  "
      ]
     },
     "execution_count": 18,
     "metadata": {},
     "output_type": "execute_result"
    }
   ],
   "source": [
    "df_borough_in=pd.merge(df_borough.reset_index(), df_boroughs, how='inner', left_index=True, right_index=True)\n",
    "df_borough_in['accident km'] = df_borough_in['ZIP CODE'] / df_borough_in['LandArea_km']\n",
    "df_borough_in.head()"
   ]
  },
  {
   "cell_type": "markdown",
   "metadata": {},
   "source": [
    "We have now got the keys to match in the dictionary and the dataframe. The difference in case can be handled by making the mapping action case-insensitive. This can be done by either converting the dictionary keys to uppercase, or the dataframe data to lowercase.\n",
    "\n",
    "Let's do that and plot `accidents_per_sq_km`, which is the accidents-to-area ratio:"
   ]
  },
  {
   "cell_type": "code",
   "execution_count": 25,
   "metadata": {
    "scrolled": true
   },
   "outputs": [
    {
     "data": {
      "image/png": "[encoded data removed]",
      "text/plain": [
       "<Figure size 1440x720 with 1 Axes>"
      ]
     },
     "metadata": {
      "needs_background": "light"
     },
     "output_type": "display_data"
    }
   ],
   "source": [
    "fig, ax = plt.subplots(figsize=(20,10))\n",
    "ax.bar(df_borough_in['BOROUGH'], df_borough_in['LandArea_km'], 0.5)\n",
    "plt.ylabel('accidents_per_sq_km')\n",
    "plt.xlabel('BOROUGHS')\n",
    "plt.title('Boroughs vs Accidents_per_sq_km vs ');\n"
   ]
  },
  {
   "cell_type": "markdown",
   "metadata": {},
   "source": [
    "**Type your answer to the question in this cell**"
   ]
  },
  {
   "cell_type": "markdown",
   "metadata": {},
   "source": [
    "### Part 5: Borough hourly analysis"
   ]
  },
  {
   "cell_type": "markdown",
   "metadata": {},
   "source": [
    "Which hours have the most accidents for each borough? Plot a bar graph for each borough showing the number of accidents for each hour of the day."
   ]
  },
  {
   "cell_type": "markdown",
   "metadata": {},
   "source": [
    "Insert **answer** below:"
   ]
  },
  {
   "cell_type": "code",
   "execution_count": 55,
   "metadata": {},
   "outputs": [
    {
     "data": {
      "image/png": "[encoded data removed]",
      "text/plain": [
       "<Figure size 576x216 with 1 Axes>"
      ]
     },
     "metadata": {
      "needs_background": "light"
     },
     "output_type": "display_data"
    },
    {
     "data": {
      "image/png": "[encoded data removed]",
      "text/plain": [
       "<Figure size 576x216 with 1 Axes>"
      ]
     },
     "metadata": {
      "needs_background": "light"
     },
     "output_type": "display_data"
    },
    {
     "data": {
      "image/png": "[encoded data removed]",
      "text/plain": [
       "<Figure size 576x216 with 1 Axes>"
      ]
     },
     "metadata": {
      "needs_background": "light"
     },
     "output_type": "display_data"
    },
    {
     "data": {
      "image/png": "[encoded data removed]",
      "text/plain": [
       "<Figure size 576x216 with 1 Axes>"
      ]
     },
     "metadata": {
      "needs_background": "light"
     },
     "output_type": "display_data"
    },
    {
     "data": {
      "image/png": "[encoded data removed]",
      "text/plain": [
       "<Figure size 576x216 with 1 Axes>"
      ]
     },
     "metadata": {
      "needs_background": "light"
     },
     "output_type": "display_data"
    }
   ],
   "source": [
    "df_hour_borouggh = df.groupby(['BOROUGH', 'HOUR']).agg(fun).reset_index()\n",
    "for borough in df_hour_borouggh.BOROUGH.unique():\n",
    "    fig, ax = plt.subplots(figsize=(8,3))\n",
    "    dataset = df_hour_borouggh[df_hour_borouggh['BOROUGH'] == borough].reset_index()  \n",
    "    ax.bar('HOUR', 'ZIP CODE', data=dataset)\n",
    "    plt.ylabel('Accidents')\n",
    "    plt.xlabel('Hour')\n",
    "    plt.title('accidents for each hour ' + borough);"
   ]
  },
  {
   "cell_type": "markdown",
   "metadata": {},
   "source": [
    "**Is the number of accidents higher at different times in different boroughs? Should we concentrate at different times for each borough?**"
   ]
  },
  {
   "cell_type": "markdown",
   "metadata": {},
   "source": [
    "**Type your answer to the question in this cell**"
   ]
  },
  {
   "cell_type": "markdown",
   "metadata": {},
   "source": [
    "### Part 6: Cause of accidents"
   ]
  },
  {
   "cell_type": "markdown",
   "metadata": {},
   "source": [
    "What factors cause the most accidents?"
   ]
  },
  {
   "cell_type": "markdown",
   "metadata": {},
   "source": [
    "Insert **answer** below:"
   ]
  },
  {
   "cell_type": "code",
   "execution_count": 67,
   "metadata": {
    "scrolled": true
   },
   "outputs": [
    {
     "data": {
      "text/html": [
       "<div>\n",
       "<style scoped>\n",
       "    .dataframe tbody tr th:only-of-type {\n",
       "        vertical-align: middle;\n",
       "    }\n",
       "\n",
       "    .dataframe tbody tr th {\n",
       "        vertical-align: top;\n",
       "    }\n",
       "\n",
       "    .dataframe thead th {\n",
       "        text-align: right;\n",
       "    }\n",
       "</style>\n",
       "<table border=\"1\" class=\"dataframe\">\n",
       "  <thead>\n",
       "    <tr style=\"text-align: right;\">\n",
       "      <th></th>\n",
       "      <th>variable</th>\n",
       "    </tr>\n",
       "    <tr>\n",
       "      <th>value</th>\n",
       "      <th></th>\n",
       "    </tr>\n",
       "  </thead>\n",
       "  <tbody>\n",
       "    <tr>\n",
       "      <th>Unspecified</th>\n",
       "      <td>240164</td>\n",
       "    </tr>\n",
       "    <tr>\n",
       "      <th>Driver Inattention/Distraction</th>\n",
       "      <td>72203</td>\n",
       "    </tr>\n",
       "    <tr>\n",
       "      <th>Failure to Yield Right-of-Way</th>\n",
       "      <td>20413</td>\n",
       "    </tr>\n",
       "    <tr>\n",
       "      <th>Following Too Closely</th>\n",
       "      <td>17909</td>\n",
       "    </tr>\n",
       "    <tr>\n",
       "      <th>Backing Unsafely</th>\n",
       "      <td>15068</td>\n",
       "    </tr>\n",
       "    <tr>\n",
       "      <th>Passing Too Closely</th>\n",
       "      <td>13378</td>\n",
       "    </tr>\n",
       "    <tr>\n",
       "      <th>Passing or Lane Usage Improper</th>\n",
       "      <td>12953</td>\n",
       "    </tr>\n",
       "    <tr>\n",
       "      <th>Other Vehicular</th>\n",
       "      <td>11093</td>\n",
       "    </tr>\n",
       "    <tr>\n",
       "      <th>Unsafe Lane Changing</th>\n",
       "      <td>6986</td>\n",
       "    </tr>\n",
       "    <tr>\n",
       "      <th>Turning Improperly</th>\n",
       "      <td>6798</td>\n",
       "    </tr>\n",
       "    <tr>\n",
       "      <th>Traffic Control Disregarded</th>\n",
       "      <td>5146</td>\n",
       "    </tr>\n",
       "    <tr>\n",
       "      <th>Driver Inexperience</th>\n",
       "      <td>4431</td>\n",
       "    </tr>\n",
       "    <tr>\n",
       "      <th>Unsafe Speed</th>\n",
       "      <td>3530</td>\n",
       "    </tr>\n",
       "    <tr>\n",
       "      <th>Reaction to Uninvolved Vehicle</th>\n",
       "      <td>3190</td>\n",
       "    </tr>\n",
       "    <tr>\n",
       "      <th>View Obstructed/Limited</th>\n",
       "      <td>2537</td>\n",
       "    </tr>\n",
       "    <tr>\n",
       "      <th>Alcohol Involvement</th>\n",
       "      <td>2514</td>\n",
       "    </tr>\n",
       "    <tr>\n",
       "      <th>Pavement Slippery</th>\n",
       "      <td>2146</td>\n",
       "    </tr>\n",
       "    <tr>\n",
       "      <th>Oversized Vehicle</th>\n",
       "      <td>2023</td>\n",
       "    </tr>\n",
       "    <tr>\n",
       "      <th>Pedestrian/Bicyclist/Other Pedestrian Error/Confusion</th>\n",
       "      <td>1895</td>\n",
       "    </tr>\n",
       "    <tr>\n",
       "      <th>Aggressive Driving/Road Rage</th>\n",
       "      <td>1153</td>\n",
       "    </tr>\n",
       "    <tr>\n",
       "      <th>Passenger Distraction</th>\n",
       "      <td>1053</td>\n",
       "    </tr>\n",
       "    <tr>\n",
       "      <th>Brakes Defective</th>\n",
       "      <td>842</td>\n",
       "    </tr>\n",
       "    <tr>\n",
       "      <th>Fell Asleep</th>\n",
       "      <td>600</td>\n",
       "    </tr>\n",
       "    <tr>\n",
       "      <th>Outside Car Distraction</th>\n",
       "      <td>572</td>\n",
       "    </tr>\n",
       "    <tr>\n",
       "      <th>Obstruction/Debris</th>\n",
       "      <td>457</td>\n",
       "    </tr>\n",
       "    <tr>\n",
       "      <th>Glare</th>\n",
       "      <td>447</td>\n",
       "    </tr>\n",
       "    <tr>\n",
       "      <th>Failure to Keep Right</th>\n",
       "      <td>378</td>\n",
       "    </tr>\n",
       "    <tr>\n",
       "      <th>Steering Failure</th>\n",
       "      <td>320</td>\n",
       "    </tr>\n",
       "    <tr>\n",
       "      <th>Pavement Defective</th>\n",
       "      <td>315</td>\n",
       "    </tr>\n",
       "    <tr>\n",
       "      <th>Illnes</th>\n",
       "      <td>256</td>\n",
       "    </tr>\n",
       "    <tr>\n",
       "      <th>Driverless/Runaway Vehicle</th>\n",
       "      <td>247</td>\n",
       "    </tr>\n",
       "    <tr>\n",
       "      <th>Tire Failure/Inadequate</th>\n",
       "      <td>220</td>\n",
       "    </tr>\n",
       "    <tr>\n",
       "      <th>Fatigued/Drowsy</th>\n",
       "      <td>218</td>\n",
       "    </tr>\n",
       "    <tr>\n",
       "      <th>Lost Consciousness</th>\n",
       "      <td>206</td>\n",
       "    </tr>\n",
       "    <tr>\n",
       "      <th>Lane Marking Improper/Inadequate</th>\n",
       "      <td>194</td>\n",
       "    </tr>\n",
       "    <tr>\n",
       "      <th>Animals Action</th>\n",
       "      <td>189</td>\n",
       "    </tr>\n",
       "    <tr>\n",
       "      <th>Accelerator Defective</th>\n",
       "      <td>143</td>\n",
       "    </tr>\n",
       "    <tr>\n",
       "      <th>Traffic Control Device Improper/Non-Working</th>\n",
       "      <td>141</td>\n",
       "    </tr>\n",
       "    <tr>\n",
       "      <th>Drugs (illegal)</th>\n",
       "      <td>118</td>\n",
       "    </tr>\n",
       "    <tr>\n",
       "      <th>Cell Phone (hand-Held)</th>\n",
       "      <td>94</td>\n",
       "    </tr>\n",
       "    <tr>\n",
       "      <th>Physical Disability</th>\n",
       "      <td>61</td>\n",
       "    </tr>\n",
       "    <tr>\n",
       "      <th>Other Lighting Defects</th>\n",
       "      <td>40</td>\n",
       "    </tr>\n",
       "    <tr>\n",
       "      <th>Other Electronic Device</th>\n",
       "      <td>31</td>\n",
       "    </tr>\n",
       "    <tr>\n",
       "      <th>Tow Hitch Defective</th>\n",
       "      <td>28</td>\n",
       "    </tr>\n",
       "    <tr>\n",
       "      <th>Tinted Windows</th>\n",
       "      <td>27</td>\n",
       "    </tr>\n",
       "    <tr>\n",
       "      <th>Vehicle Vandalism</th>\n",
       "      <td>24</td>\n",
       "    </tr>\n",
       "    <tr>\n",
       "      <th>Prescription Medication</th>\n",
       "      <td>20</td>\n",
       "    </tr>\n",
       "    <tr>\n",
       "      <th>Using On Board Navigation Device</th>\n",
       "      <td>19</td>\n",
       "    </tr>\n",
       "    <tr>\n",
       "      <th>Headlights Defective</th>\n",
       "      <td>17</td>\n",
       "    </tr>\n",
       "    <tr>\n",
       "      <th>Eating or Drinking</th>\n",
       "      <td>16</td>\n",
       "    </tr>\n",
       "    <tr>\n",
       "      <th>Texting</th>\n",
       "      <td>13</td>\n",
       "    </tr>\n",
       "    <tr>\n",
       "      <th>Cell Phone (hands-free)</th>\n",
       "      <td>12</td>\n",
       "    </tr>\n",
       "    <tr>\n",
       "      <th>Shoulders Defective/Improper</th>\n",
       "      <td>9</td>\n",
       "    </tr>\n",
       "    <tr>\n",
       "      <th>Windshield Inadequate</th>\n",
       "      <td>8</td>\n",
       "    </tr>\n",
       "    <tr>\n",
       "      <th>Listening/Using Headphones</th>\n",
       "      <td>7</td>\n",
       "    </tr>\n",
       "  </tbody>\n",
       "</table>\n",
       "</div>"
      ],
      "text/plain": [
       "                                                    variable\n",
       "value                                                       \n",
       "Unspecified                                           240164\n",
       "Driver Inattention/Distraction                         72203\n",
       "Failure to Yield Right-of-Way                          20413\n",
       "Following Too Closely                                  17909\n",
       "Backing Unsafely                                       15068\n",
       "Passing Too Closely                                    13378\n",
       "Passing or Lane Usage Improper                         12953\n",
       "Other Vehicular                                        11093\n",
       "Unsafe Lane Changing                                    6986\n",
       "Turning Improperly                                      6798\n",
       "Traffic Control Disregarded                             5146\n",
       "Driver Inexperience                                     4431\n",
       "Unsafe Speed                                            3530\n",
       "Reaction to Uninvolved Vehicle                          3190\n",
       "View Obstructed/Limited                                 2537\n",
       "Alcohol Involvement                                     2514\n",
       "Pavement Slippery                                       2146\n",
       "Oversized Vehicle                                       2023\n",
       "Pedestrian/Bicyclist/Other Pedestrian Error/Con...      1895\n",
       "Aggressive Driving/Road Rage                            1153\n",
       "Passenger Distraction                                   1053\n",
       "Brakes Defective                                         842\n",
       "Fell Asleep                                              600\n",
       "Outside Car Distraction                                  572\n",
       "Obstruction/Debris                                       457\n",
       "Glare                                                    447\n",
       "Failure to Keep Right                                    378\n",
       "Steering Failure                                         320\n",
       "Pavement Defective                                       315\n",
       "Illnes                                                   256\n",
       "Driverless/Runaway Vehicle                               247\n",
       "Tire Failure/Inadequate                                  220\n",
       "Fatigued/Drowsy                                          218\n",
       "Lost Consciousness                                       206\n",
       "Lane Marking Improper/Inadequate                         194\n",
       "Animals Action                                           189\n",
       "Accelerator Defective                                    143\n",
       "Traffic Control Device Improper/Non-Working              141\n",
       "Drugs (illegal)                                          118\n",
       "Cell Phone (hand-Held)                                    94\n",
       "Physical Disability                                       61\n",
       "Other Lighting Defects                                    40\n",
       "Other Electronic Device                                   31\n",
       "Tow Hitch Defective                                       28\n",
       "Tinted Windows                                            27\n",
       "Vehicle Vandalism                                         24\n",
       "Prescription Medication                                   20\n",
       "Using On Board Navigation Device                          19\n",
       "Headlights Defective                                      17\n",
       "Eating or Drinking                                        16\n",
       "Texting                                                   13\n",
       "Cell Phone (hands-free)                                   12\n",
       "Shoulders Defective/Improper                               9\n",
       "Windshield Inadequate                                      8\n",
       "Listening/Using Headphones                                 7"
      ]
     },
     "execution_count": 67,
     "metadata": {},
     "output_type": "execute_result"
    }
   ],
   "source": [
    "df_most_accident = df[['CONTRIBUTING FACTOR VEHICLE 1','CONTRIBUTING FACTOR VEHICLE 2', 'CONTRIBUTING FACTOR VEHICLE 3',\n",
    "'CONTRIBUTING FACTOR VEHICLE 4', 'CONTRIBUTING FACTOR VEHICLE 5']].melt().groupby('value').count().sort_values(by=\"variable\", ascending=False)\n",
    "df_most_accident.head(100)"
   ]
  },
  {
   "cell_type": "markdown",
   "metadata": {},
   "source": [
    "**Type your answer to the question in this cell**"
   ]
  },
  {
   "cell_type": "markdown",
   "metadata": {},
   "source": [
    "### Part 7: Boroughs and vehicle types"
   ]
  },
  {
   "cell_type": "markdown",
   "metadata": {},
   "source": [
    "Which vehicle types are most involved in accidents per borough?"
   ]
  },
  {
   "cell_type": "markdown",
   "metadata": {},
   "source": [
    "Insert **answer** below:"
   ]
  },
  {
   "cell_type": "code",
   "execution_count": 75,
   "metadata": {},
   "outputs": [
    {
     "data": {
      "text/plain": [
       "Index(['DATE', 'TIME', 'BOROUGH', 'ZIP CODE', 'LATITUDE', 'LONGITUDE',\n",
       "       'ON STREET NAME', 'NUMBER OF PEDESTRIANS INJURED',\n",
       "       'NUMBER OF PEDESTRIANS KILLED', 'NUMBER OF CYCLIST INJURED',\n",
       "       'NUMBER OF CYCLIST KILLED', 'NUMBER OF MOTORIST INJURED',\n",
       "       'NUMBER OF MOTORIST KILLED', 'CONTRIBUTING FACTOR VEHICLE 1',\n",
       "       'CONTRIBUTING FACTOR VEHICLE 2', 'CONTRIBUTING FACTOR VEHICLE 3',\n",
       "       'CONTRIBUTING FACTOR VEHICLE 4', 'CONTRIBUTING FACTOR VEHICLE 5',\n",
       "       'COLLISION_ID', 'VEHICLE TYPE CODE 1', 'VEHICLE TYPE CODE 2',\n",
       "       'VEHICLE TYPE CODE 3', 'VEHICLE TYPE CODE 4', 'VEHICLE TYPE CODE 5',\n",
       "       'DATETIME', 'DateTime', 'YearMonth', 'YearMonth_dt', 'HOUR', 'week',\n",
       "       'dayofweek'],\n",
       "      dtype='object')"
      ]
     },
     "execution_count": 75,
     "metadata": {},
     "output_type": "execute_result"
    }
   ],
   "source": [
    "df.columns"
   ]
  },
  {
   "cell_type": "code",
   "execution_count": 78,
   "metadata": {},
   "outputs": [
    {
     "name": "stdout",
     "output_type": "stream",
     "text": [
      "===================\n",
      "BRONX\n",
      "                                     variable\n",
      "value                                        \n",
      "Sedan                                   25714\n",
      "Station Wagon/Sport Utility Vehicle     19185\n",
      "PASSENGER VEHICLE                        6421\n",
      "SPORT UTILITY / STATION WAGON            4643\n",
      "Pick-up Truck                            1745\n",
      "Taxi                                     1736\n",
      "Box Truck                                1132\n",
      "Bus                                      1077\n",
      "Bike                                      689\n",
      "Tractor Truck Diesel                      629\n",
      "===================\n",
      "===================\n",
      "BROOKLYN\n",
      "                                     variable\n",
      "value                                        \n",
      "Sedan                                   51983\n",
      "Station Wagon/Sport Utility Vehicle     40895\n",
      "PASSENGER VEHICLE                       13480\n",
      "SPORT UTILITY / STATION WAGON           10124\n",
      "Pick-up Truck                            3310\n",
      "Box Truck                                2446\n",
      "Bike                                     2378\n",
      "Taxi                                     2311\n",
      "Bus                                      1856\n",
      "PICK-UP TRUCK                             819\n",
      "===================\n",
      "===================\n",
      "QUEENS\n",
      "                                     variable\n",
      "value                                        \n",
      "Sedan                                   45987\n",
      "Station Wagon/Sport Utility Vehicle     40500\n",
      "PASSENGER VEHICLE                       11608\n",
      "SPORT UTILITY / STATION WAGON           10049\n",
      "Pick-up Truck                            3222\n",
      "Taxi                                     1882\n",
      "Box Truck                                1498\n",
      "Bike                                     1101\n",
      "Bus                                      1084\n",
      "PICK-UP TRUCK                             829\n",
      "===================\n",
      "===================\n",
      "MANHATTAN\n",
      "                                     variable\n",
      "value                                        \n",
      "Sedan                                   25614\n",
      "Station Wagon/Sport Utility Vehicle     19730\n",
      "Taxi                                    10509\n",
      "PASSENGER VEHICLE                        6899\n",
      "SPORT UTILITY / STATION WAGON            5256\n",
      "Box Truck                                3669\n",
      "TAXI                                     3536\n",
      "Pick-up Truck                            2473\n",
      "Bike                                     2104\n",
      "Bus                                      1897\n",
      "===================\n",
      "===================\n",
      "STATEN ISLAND\n",
      "                                     variable\n",
      "value                                        \n",
      "Sedan                                    6584\n",
      "Station Wagon/Sport Utility Vehicle      4353\n",
      "PASSENGER VEHICLE                        2215\n",
      "SPORT UTILITY / STATION WAGON            1147\n",
      "Pick-up Truck                             564\n",
      "PICK-UP TRUCK                             160\n",
      "Bus                                        94\n",
      "Bike                                       71\n",
      "Motorcycle                                 57\n",
      "Taxi                                       44\n",
      "===================\n"
     ]
    }
   ],
   "source": [
    "for borough in df.BOROUGH.unique():\n",
    "    dataset=df[df.BOROUGH == borough][['VEHICLE TYPE CODE 1', 'VEHICLE TYPE CODE 2', 'VEHICLE TYPE CODE 3', 'VEHICLE TYPE CODE 4', 'VEHICLE TYPE CODE 5']].melt().groupby(\"value\").agg(\"count\").sort_values(by=\"variable\", ascending=False)[0:10]\n",
    "    print(\"===================\")\n",
    "    print(borough)\n",
    "    print(dataset)\n",
    "    print(\"===================\")"
   ]
  },
  {
   "cell_type": "markdown",
   "metadata": {},
   "source": [
    "**Type your answer to the question in this cell**  The principal types of vehicles involved in accidents per borough: Sedan, Station Wagon/Sport Utility Vehicle, PASSENGER VEHICLE, SPORT UTILITY / STATION WAGO"
   ]
  },
  {
   "cell_type": "markdown",
   "metadata": {},
   "source": [
    "### Part 8: Death counts by vehicle type"
   ]
  },
  {
   "cell_type": "markdown",
   "metadata": {},
   "source": [
    "Calculate the number of deaths by vehicle and plot a bar chart for the top 5 vehicles. Which vehicles are most often involved in deaths, and by how much more than the others?"
   ]
  },
  {
   "cell_type": "markdown",
   "metadata": {},
   "source": [
    "Insert **answer** below:"
   ]
  },
  {
   "cell_type": "code",
   "execution_count": 85,
   "metadata": {},
   "outputs": [
    {
     "data": {
      "text/plain": [
       "Index(['DATE', 'TIME', 'BOROUGH', 'ZIP CODE', 'LATITUDE', 'LONGITUDE',\n",
       "       'ON STREET NAME', 'NUMBER OF PEDESTRIANS INJURED',\n",
       "       'NUMBER OF PEDESTRIANS KILLED', 'NUMBER OF CYCLIST INJURED',\n",
       "       'NUMBER OF CYCLIST KILLED', 'NUMBER OF MOTORIST INJURED',\n",
       "       'NUMBER OF MOTORIST KILLED', 'CONTRIBUTING FACTOR VEHICLE 1',\n",
       "       'CONTRIBUTING FACTOR VEHICLE 2', 'CONTRIBUTING FACTOR VEHICLE 3',\n",
       "       'CONTRIBUTING FACTOR VEHICLE 4', 'CONTRIBUTING FACTOR VEHICLE 5',\n",
       "       'COLLISION_ID', 'VEHICLE TYPE CODE 1', 'VEHICLE TYPE CODE 2',\n",
       "       'VEHICLE TYPE CODE 3', 'VEHICLE TYPE CODE 4', 'VEHICLE TYPE CODE 5',\n",
       "       'DATETIME', 'DateTime', 'YearMonth', 'YearMonth_dt', 'HOUR', 'week',\n",
       "       'dayofweek', 'Total kills'],\n",
       "      dtype='object')"
      ]
     },
     "execution_count": 85,
     "metadata": {},
     "output_type": "execute_result"
    }
   ],
   "source": [
    "df[\"Total kills\"] = df['NUMBER OF PEDESTRIANS KILLED'] + df['NUMBER OF CYCLIST KILLED'] + df['NUMBER OF MOTORIST KILLED']"
   ]
  },
  {
   "cell_type": "code",
   "execution_count": 106,
   "metadata": {},
   "outputs": [
    {
     "data": {
      "text/html": [
       "<div>\n",
       "<style scoped>\n",
       "    .dataframe tbody tr th:only-of-type {\n",
       "        vertical-align: middle;\n",
       "    }\n",
       "\n",
       "    .dataframe tbody tr th {\n",
       "        vertical-align: top;\n",
       "    }\n",
       "\n",
       "    .dataframe thead th {\n",
       "        text-align: right;\n",
       "    }\n",
       "</style>\n",
       "<table border=\"1\" class=\"dataframe\">\n",
       "  <thead>\n",
       "    <tr style=\"text-align: right;\">\n",
       "      <th></th>\n",
       "      <th>COLLISION_ID</th>\n",
       "      <th>Total kills</th>\n",
       "      <th>VEHICLE</th>\n",
       "    </tr>\n",
       "  </thead>\n",
       "  <tbody>\n",
       "    <tr>\n",
       "      <th>0</th>\n",
       "      <td>3988123</td>\n",
       "      <td>0</td>\n",
       "      <td>Sedan</td>\n",
       "    </tr>\n",
       "    <tr>\n",
       "      <th>1</th>\n",
       "      <td>3987962</td>\n",
       "      <td>0</td>\n",
       "      <td>Sedan</td>\n",
       "    </tr>\n",
       "    <tr>\n",
       "      <th>2</th>\n",
       "      <td>4193132</td>\n",
       "      <td>0</td>\n",
       "      <td>Sedan</td>\n",
       "    </tr>\n",
       "    <tr>\n",
       "      <th>3</th>\n",
       "      <td>3985962</td>\n",
       "      <td>0</td>\n",
       "      <td>Bike</td>\n",
       "    </tr>\n",
       "    <tr>\n",
       "      <th>4</th>\n",
       "      <td>4192111</td>\n",
       "      <td>0</td>\n",
       "      <td>Sedan</td>\n",
       "    </tr>\n",
       "  </tbody>\n",
       "</table>\n",
       "</div>"
      ],
      "text/plain": [
       "   COLLISION_ID  Total kills VEHICLE\n",
       "0       3988123            0   Sedan\n",
       "1       3987962            0   Sedan\n",
       "2       4193132            0   Sedan\n",
       "3       3985962            0    Bike\n",
       "4       4192111            0   Sedan"
      ]
     },
     "execution_count": 106,
     "metadata": {},
     "output_type": "execute_result"
    }
   ],
   "source": [
    "df1_v = df[['COLLISION_ID', 'Total kills', 'VEHICLE TYPE CODE 1' ]].rename(columns ={'VEHICLE TYPE CODE 1': 'VEHICLE'})\n",
    "df2_v = df[['COLLISION_ID', 'Total kills', 'VEHICLE TYPE CODE 2' ]].rename(columns ={'VEHICLE TYPE CODE 2': 'VEHICLE'})\n",
    "df3_v = df[['COLLISION_ID', 'Total kills', 'VEHICLE TYPE CODE 3' ]].rename(columns ={'VEHICLE TYPE CODE 3': 'VEHICLE'})\n",
    "df4_v = df[['COLLISION_ID', 'Total kills', 'VEHICLE TYPE CODE 4' ]].rename(columns ={'VEHICLE TYPE CODE 4': 'VEHICLE'})\n",
    "df5_v = df[['COLLISION_ID', 'Total kills', 'VEHICLE TYPE CODE 5' ]].rename(columns ={'VEHICLE TYPE CODE 5': 'VEHICLE'})\n",
    "df_kill_v = pd.concat([df1_v,df2_v,df3_v,df4_v,df5_v])\n",
    "df_kill_v.head()\n"
   ]
  },
  {
   "cell_type": "code",
   "execution_count": 114,
   "metadata": {},
   "outputs": [
    {
     "data": {
      "text/html": [
       "<div>\n",
       "<style scoped>\n",
       "    .dataframe tbody tr th:only-of-type {\n",
       "        vertical-align: middle;\n",
       "    }\n",
       "\n",
       "    .dataframe tbody tr th {\n",
       "        vertical-align: top;\n",
       "    }\n",
       "\n",
       "    .dataframe thead th {\n",
       "        text-align: right;\n",
       "    }\n",
       "</style>\n",
       "<table border=\"1\" class=\"dataframe\">\n",
       "  <thead>\n",
       "    <tr style=\"text-align: right;\">\n",
       "      <th></th>\n",
       "      <th>VEHICLE</th>\n",
       "      <th>Total kills</th>\n",
       "    </tr>\n",
       "  </thead>\n",
       "  <tbody>\n",
       "    <tr>\n",
       "      <th>0</th>\n",
       "      <td>Station Wagon/Sport Utility Vehicle</td>\n",
       "      <td>100</td>\n",
       "    </tr>\n",
       "    <tr>\n",
       "      <th>1</th>\n",
       "      <td>Sedan</td>\n",
       "      <td>79</td>\n",
       "    </tr>\n",
       "    <tr>\n",
       "      <th>2</th>\n",
       "      <td>PASSENGER VEHICLE</td>\n",
       "      <td>33</td>\n",
       "    </tr>\n",
       "    <tr>\n",
       "      <th>3</th>\n",
       "      <td>SPORT UTILITY / STATION WAGON</td>\n",
       "      <td>26</td>\n",
       "    </tr>\n",
       "    <tr>\n",
       "      <th>4</th>\n",
       "      <td>Motorcycle</td>\n",
       "      <td>22</td>\n",
       "    </tr>\n",
       "  </tbody>\n",
       "</table>\n",
       "</div>"
      ],
      "text/plain": [
       "                               VEHICLE  Total kills\n",
       "0  Station Wagon/Sport Utility Vehicle          100\n",
       "1                                Sedan           79\n",
       "2                    PASSENGER VEHICLE           33\n",
       "3        SPORT UTILITY / STATION WAGON           26\n",
       "4                           Motorcycle           22"
      ]
     },
     "execution_count": 114,
     "metadata": {},
     "output_type": "execute_result"
    }
   ],
   "source": [
    "df_kill_t = df_kill_v.groupby('VEHICLE').agg({'Total kills':'sum'}).sort_values(by=\"Total kills\", ascending=False)[0:5].reset_index()\n",
    "df_kill_t.head(1000)"
   ]
  },
  {
   "cell_type": "code",
   "execution_count": 118,
   "metadata": {},
   "outputs": [
    {
     "data": {
      "image/png": "[encoded data removed]",
      "text/plain": [
       "<Figure size 1080x216 with 1 Axes>"
      ]
     },
     "metadata": {
      "needs_background": "light"
     },
     "output_type": "display_data"
    }
   ],
   "source": [
    "fig, ax = plt.subplots(figsize=(15,3))\n",
    "ax.bar('VEHICLE', 'Total kills', data=df_kill_t)\n",
    "plt.ylabel('kills')\n",
    "plt.xlabel('VEHICLE')\n",
    "plt.title('number of deaths by vehicle');"
   ]
  },
  {
   "cell_type": "markdown",
   "metadata": {},
   "source": [
    "**Type your answer to the question in this cell**"
   ]
  }
 ],
 "metadata": {
  "kernelspec": {
   "display_name": "Python 3",
   "language": "python",
   "name": "python3"
  },
  "language_info": {
   "codemirror_mode": {
    "name": "ipython",
    "version": 3
   },
   "file_extension": ".py",
   "mimetype": "text/x-python",
   "name": "python",
   "nbconvert_exporter": "python",
   "pygments_lexer": "ipython3",
   "version": "3.7.3"
  }
 },
 "nbformat": 4,
 "nbformat_minor": 2
}
