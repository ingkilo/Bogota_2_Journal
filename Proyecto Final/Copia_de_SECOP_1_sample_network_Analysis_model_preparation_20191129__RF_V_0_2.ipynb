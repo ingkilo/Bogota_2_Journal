{
  "nbformat": 4,
  "nbformat_minor": 0,
  "metadata": {
    "kernelspec": {
      "name": "python3",
      "display_name": "Python 3"
    },
    "language_info": {
      "codemirror_mode": {
        "name": "ipython",
        "version": 3
      },
      "file_extension": ".py",
      "mimetype": "text/x-python",
      "name": "python",
      "nbconvert_exporter": "python",
      "pygments_lexer": "ipython3",
      "version": "3.6.9"
    },
    "colab": {
      "name": "Copia de SECOP 1-sample network Analysis - model preparation 20191129 _RF V 0.2.ipynb",
      "provenance": []
    },
    "accelerator": "TPU"
  },
  "cells": [
    {
      "cell_type": "markdown",
      "metadata": {
        "id": "SuN6VJlRsdVn",
        "colab_type": "text"
      },
      "source": [
        "# SECOP 1 - Network Analysis"
      ]
    },
    {
      "cell_type": "code",
      "metadata": {
        "id": "Bosrtx6asdWK",
        "colab_type": "code",
        "colab": {}
      },
      "source": [
        "import pandas as pd\n",
        "import numpy as np\n",
        "import datetime\n",
        "from plotly.offline import init_notebook_mode, iplot\n",
        "import plotly.graph_objs as go\n",
        "import plotly.figure_factory as ff\n",
        "from warnings import filterwarnings\n",
        "pd.options.display.max_columns = 500"
      ],
      "execution_count": 0,
      "outputs": []
    },
    {
      "cell_type": "code",
      "metadata": {
        "id": "NhP2dmvysjcp",
        "colab_type": "code",
        "outputId": "09857bac-bff6-4d52-a3d4-de16bb86ada8",
        "colab": {
          "base_uri": "https://localhost:8080/",
          "height": 204
        }
      },
      "source": [
        "!pip install plotly_express"
      ],
      "execution_count": 3,
      "outputs": [
        {
          "output_type": "stream",
          "text": [
            "Requirement already satisfied: plotly_express in /usr/local/lib/python3.6/dist-packages (0.4.1)\n",
            "Requirement already satisfied: pandas>=0.20.0 in /usr/local/lib/python3.6/dist-packages (from plotly_express) (0.25.3)\n",
            "Requirement already satisfied: scipy>=0.18 in /usr/local/lib/python3.6/dist-packages (from plotly_express) (1.3.2)\n",
            "Requirement already satisfied: patsy>=0.5 in /usr/local/lib/python3.6/dist-packages (from plotly_express) (0.5.1)\n",
            "Requirement already satisfied: plotly>=4.1.0 in /usr/local/lib/python3.6/dist-packages (from plotly_express) (4.1.1)\n",
            "Requirement already satisfied: numpy>=1.11 in /usr/local/lib/python3.6/dist-packages (from plotly_express) (1.17.4)\n",
            "Requirement already satisfied: statsmodels>=0.9.0 in /usr/local/lib/python3.6/dist-packages (from plotly_express) (0.10.1)\n",
            "Requirement already satisfied: python-dateutil>=2.6.1 in /usr/local/lib/python3.6/dist-packages (from pandas>=0.20.0->plotly_express) (2.6.1)\n",
            "Requirement already satisfied: pytz>=2017.2 in /usr/local/lib/python3.6/dist-packages (from pandas>=0.20.0->plotly_express) (2018.9)\n",
            "Requirement already satisfied: six in /usr/local/lib/python3.6/dist-packages (from patsy>=0.5->plotly_express) (1.12.0)\n",
            "Requirement already satisfied: retrying>=1.3.3 in /usr/local/lib/python3.6/dist-packages (from plotly>=4.1.0->plotly_express) (1.3.3)\n"
          ],
          "name": "stdout"
        }
      ]
    },
    {
      "cell_type": "code",
      "metadata": {
        "id": "jRDRAiXYsdWO",
        "colab_type": "code",
        "colab": {}
      },
      "source": [
        "import seaborn as sns\n",
        "import missingno as msgo\n",
        "import plotly_express as px\n",
        "from sklearn.preprocessing import StandardScaler\n",
        "from sklearn.decomposition import PCA\n",
        "from sklearn.cluster import KMeans\n",
        "from sklearn.metrics import silhouette_score"
      ],
      "execution_count": 0,
      "outputs": []
    },
    {
      "cell_type": "code",
      "metadata": {
        "id": "5euvNP34sdWS",
        "colab_type": "code",
        "outputId": "142941e3-7156-4d40-860e-705c55f6a759",
        "colab": {
          "base_uri": "https://localhost:8080/",
          "height": 105
        }
      },
      "source": [
        "import psycopg2\n",
        "engine = psycopg2.connect(\n",
        "    database=\"final_db\",\n",
        "    user=\"juan\",\n",
        "    password=\"1234\",\n",
        "    host=\"nps-demo-instance.c2fezqs1nmx5.us-east-2.rds.amazonaws.com\",\n",
        "    port='5432'\n",
        ")"
      ],
      "execution_count": 5,
      "outputs": [
        {
          "output_type": "stream",
          "text": [
            "/usr/local/lib/python3.6/dist-packages/psycopg2/__init__.py:144: UserWarning:\n",
            "\n",
            "The psycopg2 wheel package will be renamed from release 2.8; in order to keep installing from binary please use \"pip install psycopg2-binary\" instead. For details see: <http://initd.org/psycopg/docs/install.html#binary-install-from-pypi>.\n",
            "\n"
          ],
          "name": "stderr"
        }
      ]
    },
    {
      "cell_type": "code",
      "metadata": {
        "id": "ZDDV3OT4sdWX",
        "colab_type": "code",
        "colab": {}
      },
      "source": [
        "cursor=engine.cursor()"
      ],
      "execution_count": 0,
      "outputs": []
    },
    {
      "cell_type": "code",
      "metadata": {
        "id": "p1-ayGgwsdWa",
        "colab_type": "code",
        "colab": {}
      },
      "source": [
        "import pandas as pd\n",
        "\n",
        "sql = \"\"\"\n",
        "SELECT *\n",
        "FROM fix_secopi\n",
        "limit 100000\n",
        "\"\"\"\n",
        "df=pd.read_sql(sql, con=engine)"
      ],
      "execution_count": 0,
      "outputs": []
    },
    {
      "cell_type": "code",
      "metadata": {
        "id": "w3bC17X4sdWe",
        "colab_type": "code",
        "outputId": "75d459dc-b0b2-40b2-e9bd-5f9782aaa25c",
        "colab": {
          "base_uri": "https://localhost:8080/",
          "height": 544
        }
      },
      "source": [
        "df.info()"
      ],
      "execution_count": 8,
      "outputs": [
        {
          "output_type": "stream",
          "text": [
            "<class 'pandas.core.frame.DataFrame'>\n",
            "RangeIndex: 100000 entries, 0 to 99999\n",
            "Data columns (total 26 columns):\n",
            "identificacion_del_contratista    99999 non-null object\n",
            "nombre_de_la_entidad              100000 non-null object\n",
            "nit_de_la_entidad                 100000 non-null object\n",
            "nivel_entidad                     100000 non-null object\n",
            "orden_entidad                     100000 non-null object\n",
            "municipio_obtencion               100000 non-null object\n",
            "municipio_entrega                 100000 non-null object\n",
            "numero_del_contrato               100000 non-null object\n",
            "numero_de_proceso                 99998 non-null object\n",
            "nom_raz_social_contratista        100000 non-null object\n",
            "moneda                            100000 non-null object\n",
            "cuantia_contrato                  100000 non-null float64\n",
            "valor_contrato_con_adiciones      100000 non-null float64\n",
            "valor_total_de_adiciones          100000 non-null float64\n",
            "sancion                           100000 non-null object\n",
            "anno_firma_del_contrato           100000 non-null object\n",
            "estado_del_proceso                100000 non-null object\n",
            "fecha_de_firma_del_contrato       100000 non-null object\n",
            "fecha_ini_ejec_contrato           100000 non-null object\n",
            "fecha_fin_ejec_contrato           99472 non-null object\n",
            "municipios_ejecucion              100000 non-null object\n",
            "departamento_ejecucion            100000 non-null object\n",
            "latitud                           99658 non-null float64\n",
            "longitud                          99658 non-null float64\n",
            "terminado                         100000 non-null object\n",
            "departamento_entidad              100000 non-null object\n",
            "dtypes: float64(5), object(21)\n",
            "memory usage: 19.8+ MB\n"
          ],
          "name": "stdout"
        }
      ]
    },
    {
      "cell_type": "markdown",
      "metadata": {
        "id": "f5Gm2Uv8sdWk",
        "colab_type": "text"
      },
      "source": [
        "## Objetivo\n",
        "\n",
        "El objetivo del notebook es desarrollar modelos con la información actualmente disponible en la bases de datos fix_secopi. \n",
        "Esta base de datos contiene las siguientes modificaciones respecto a la base de datos del secop:\n",
        "\n",
        "    1- Se incluyo la columna \"SANCIÓN\", la cual incluye un identificación para los contratos que han sido reportados como contratos con eventos de corrupción.\n",
        "    \n",
        "    2- Se incluyo la columna \"Terminado\" indica que un contrato ha sido entregado o finalizado de forma adecuada. Los contratos que presentan sanción no puede ser calificado como terminado\n",
        "    \n",
        "    \n",
        "- El trabajo a desarrollar considera la selección de columnas de interés \n",
        "- Desarrollo de cluster con los datos con el objetivo de buscar alguna estructura en la data\n",
        "- desarrollo de modelo de logistic regression a fin de plantear un posible modelo de predicción o score de corrupción [y = sanción y X= variables de interés]\n",
        "- Desarrollo de RF a fn de encontrar un modelo de clasificación sobre la variable sanción"
      ]
    },
    {
      "cell_type": "markdown",
      "metadata": {
        "id": "QbHfgSpfsdWl",
        "colab_type": "text"
      },
      "source": [
        "### EDA básico"
      ]
    },
    {
      "cell_type": "code",
      "metadata": {
        "id": "XWtsOHGxsdWm",
        "colab_type": "code",
        "colab": {}
      },
      "source": [
        "df_sample=df.copy()"
      ],
      "execution_count": 0,
      "outputs": []
    },
    {
      "cell_type": "code",
      "metadata": {
        "id": "NIXQlQ2nsdWq",
        "colab_type": "code",
        "outputId": "387ed837-171c-44ba-d517-c20e83a5d911",
        "colab": {
          "base_uri": "https://localhost:8080/",
          "height": 204
        }
      },
      "source": [
        "df_sample.describe().T"
      ],
      "execution_count": 10,
      "outputs": [
        {
          "output_type": "execute_result",
          "data": {
            "text/html": [
              "<div>\n",
              "<style scoped>\n",
              "    .dataframe tbody tr th:only-of-type {\n",
              "        vertical-align: middle;\n",
              "    }\n",
              "\n",
              "    .dataframe tbody tr th {\n",
              "        vertical-align: top;\n",
              "    }\n",
              "\n",
              "    .dataframe thead th {\n",
              "        text-align: right;\n",
              "    }\n",
              "</style>\n",
              "<table border=\"1\" class=\"dataframe\">\n",
              "  <thead>\n",
              "    <tr style=\"text-align: right;\">\n",
              "      <th></th>\n",
              "      <th>count</th>\n",
              "      <th>mean</th>\n",
              "      <th>std</th>\n",
              "      <th>min</th>\n",
              "      <th>25%</th>\n",
              "      <th>50%</th>\n",
              "      <th>75%</th>\n",
              "      <th>max</th>\n",
              "    </tr>\n",
              "  </thead>\n",
              "  <tbody>\n",
              "    <tr>\n",
              "      <th>cuantia_contrato</th>\n",
              "      <td>100000.0</td>\n",
              "      <td>3.386571e+08</td>\n",
              "      <td>1.135030e+10</td>\n",
              "      <td>0.000000</td>\n",
              "      <td>5.275280e+06</td>\n",
              "      <td>1.629436e+07</td>\n",
              "      <td>6.943785e+07</td>\n",
              "      <td>2.316128e+12</td>\n",
              "    </tr>\n",
              "    <tr>\n",
              "      <th>valor_contrato_con_adiciones</th>\n",
              "      <td>100000.0</td>\n",
              "      <td>3.690908e+08</td>\n",
              "      <td>1.147059e+10</td>\n",
              "      <td>0.000000</td>\n",
              "      <td>5.400284e+06</td>\n",
              "      <td>1.649820e+07</td>\n",
              "      <td>7.276500e+07</td>\n",
              "      <td>2.316128e+12</td>\n",
              "    </tr>\n",
              "    <tr>\n",
              "      <th>valor_total_de_adiciones</th>\n",
              "      <td>100000.0</td>\n",
              "      <td>3.043364e+07</td>\n",
              "      <td>9.938478e+08</td>\n",
              "      <td>0.000000</td>\n",
              "      <td>0.000000e+00</td>\n",
              "      <td>0.000000e+00</td>\n",
              "      <td>0.000000e+00</td>\n",
              "      <td>1.830878e+11</td>\n",
              "    </tr>\n",
              "    <tr>\n",
              "      <th>latitud</th>\n",
              "      <td>99658.0</td>\n",
              "      <td>5.217890e+00</td>\n",
              "      <td>2.200591e+00</td>\n",
              "      <td>-4.215280</td>\n",
              "      <td>4.533890e+00</td>\n",
              "      <td>4.609710e+00</td>\n",
              "      <td>6.251840e+00</td>\n",
              "      <td>1.154444e+01</td>\n",
              "    </tr>\n",
              "    <tr>\n",
              "      <th>longitud</th>\n",
              "      <td>99658.0</td>\n",
              "      <td>-7.455396e+01</td>\n",
              "      <td>1.473052e+00</td>\n",
              "      <td>-77.281113</td>\n",
              "      <td>-7.556359e+01</td>\n",
              "      <td>-7.408175e+01</td>\n",
              "      <td>-7.400481e+01</td>\n",
              "      <td>-6.748588e+01</td>\n",
              "    </tr>\n",
              "  </tbody>\n",
              "</table>\n",
              "</div>"
            ],
            "text/plain": [
              "                                 count          mean           std        min  \\\n",
              "cuantia_contrato              100000.0  3.386571e+08  1.135030e+10   0.000000   \n",
              "valor_contrato_con_adiciones  100000.0  3.690908e+08  1.147059e+10   0.000000   \n",
              "valor_total_de_adiciones      100000.0  3.043364e+07  9.938478e+08   0.000000   \n",
              "latitud                        99658.0  5.217890e+00  2.200591e+00  -4.215280   \n",
              "longitud                       99658.0 -7.455396e+01  1.473052e+00 -77.281113   \n",
              "\n",
              "                                       25%           50%           75%  \\\n",
              "cuantia_contrato              5.275280e+06  1.629436e+07  6.943785e+07   \n",
              "valor_contrato_con_adiciones  5.400284e+06  1.649820e+07  7.276500e+07   \n",
              "valor_total_de_adiciones      0.000000e+00  0.000000e+00  0.000000e+00   \n",
              "latitud                       4.533890e+00  4.609710e+00  6.251840e+00   \n",
              "longitud                     -7.556359e+01 -7.408175e+01 -7.400481e+01   \n",
              "\n",
              "                                       max  \n",
              "cuantia_contrato              2.316128e+12  \n",
              "valor_contrato_con_adiciones  2.316128e+12  \n",
              "valor_total_de_adiciones      1.830878e+11  \n",
              "latitud                       1.154444e+01  \n",
              "longitud                     -6.748588e+01  "
            ]
          },
          "metadata": {
            "tags": []
          },
          "execution_count": 10
        }
      ]
    },
    {
      "cell_type": "markdown",
      "metadata": {
        "id": "QZBJmmtPsdWy",
        "colab_type": "text"
      },
      "source": [
        "### EDA Histogramas por columnas de interés como contratos de mayor cuantía o datos de mayor cantidad de contratos terminados"
      ]
    },
    {
      "cell_type": "code",
      "metadata": {
        "id": "Nq6vsBR5sdWz",
        "colab_type": "code",
        "outputId": "b7dda401-c703-4ebb-c127-12430d34605e",
        "colab": {
          "base_uri": "https://localhost:8080/",
          "height": 204
        }
      },
      "source": [
        "df.columns.unique()"
      ],
      "execution_count": 11,
      "outputs": [
        {
          "output_type": "execute_result",
          "data": {
            "text/plain": [
              "Index(['identificacion_del_contratista', 'nombre_de_la_entidad',\n",
              "       'nit_de_la_entidad', 'nivel_entidad', 'orden_entidad',\n",
              "       'municipio_obtencion', 'municipio_entrega', 'numero_del_contrato',\n",
              "       'numero_de_proceso', 'nom_raz_social_contratista', 'moneda',\n",
              "       'cuantia_contrato', 'valor_contrato_con_adiciones',\n",
              "       'valor_total_de_adiciones', 'sancion', 'anno_firma_del_contrato',\n",
              "       'estado_del_proceso', 'fecha_de_firma_del_contrato',\n",
              "       'fecha_ini_ejec_contrato', 'fecha_fin_ejec_contrato',\n",
              "       'municipios_ejecucion', 'departamento_ejecucion', 'latitud', 'longitud',\n",
              "       'terminado', 'departamento_entidad'],\n",
              "      dtype='object')"
            ]
          },
          "metadata": {
            "tags": []
          },
          "execution_count": 11
        }
      ]
    },
    {
      "cell_type": "markdown",
      "metadata": {
        "id": "C-pWM1y2sdW2",
        "colab_type": "text"
      },
      "source": [
        "Generación de columnas logaritmicas de cuantia de contrato y sanción"
      ]
    },
    {
      "cell_type": "code",
      "metadata": {
        "id": "44Il-T9YsdW4",
        "colab_type": "code",
        "colab": {}
      },
      "source": [
        "df[\"Log_cuantia_contrato\"] =[np.log(x) if x !=0 else 0 for x in df[\"cuantia_contrato\"]] \n",
        "df[\"Log_valor_contrato_con_adiciones\"] =[np.log(x) if x !=0 else 0 for x in df[\"valor_contrato_con_adiciones\"]] \n",
        "df[\"Log_valor_total_de_adiciones\"] =[np.log(x) if x !=0 else 0 for x in df[\"valor_total_de_adiciones\"]] \n",
        "df[\"terminado\"]=[int(x) for x in df[\"terminado\"]]\n",
        "df[\"sancion\"]=[int(x) for x in df[\"sancion\"]]"
      ],
      "execution_count": 0,
      "outputs": []
    },
    {
      "cell_type": "code",
      "metadata": {
        "id": "perjOytGsdW8",
        "colab_type": "code",
        "colab": {}
      },
      "source": [
        "colInteres=['identificacion_del_contratista', 'nombre_de_la_entidad','nit_de_la_entidad', 'nivel_entidad', 'orden_entidad',\n",
        "'municipio_obtencion', 'municipio_entrega','nom_raz_social_contratista', 'moneda','cuantia_contrato',\n",
        "'valor_contrato_con_adiciones','valor_total_de_adiciones',\"Log_cuantia_contrato\",\"Log_valor_contrato_con_adiciones\",\n",
        "\"Log_valor_total_de_adiciones\",'sancion', 'anno_firma_del_contrato','estado_del_proceso', 'fecha_de_firma_del_contrato',\n",
        "'fecha_ini_ejec_contrato', 'fecha_fin_ejec_contrato','municipios_ejecucion', 'departamento_ejecucion', 'latitud',\n",
        "'longitud','terminado']"
      ],
      "execution_count": 0,
      "outputs": []
    },
    {
      "cell_type": "markdown",
      "metadata": {
        "id": "IAtobhhcsdXA",
        "colab_type": "text"
      },
      "source": [
        "Entidades con mayor cantidad de contratos, mayor cuantia del contrato, mayor cantidad de adiciones, mayor cantidad de sanciones, mayor cantidad de contratos terminados"
      ]
    },
    {
      "cell_type": "code",
      "metadata": {
        "id": "T-X1XSVusdYm",
        "colab_type": "code",
        "outputId": "7d94c827-1f50-4d6d-8617-e9fb3663f1b8",
        "colab": {
          "base_uri": "https://localhost:8080/",
          "height": 117
        }
      },
      "source": [
        "df.head(1)"
      ],
      "execution_count": 14,
      "outputs": [
        {
          "output_type": "execute_result",
          "data": {
            "text/html": [
              "<div>\n",
              "<style scoped>\n",
              "    .dataframe tbody tr th:only-of-type {\n",
              "        vertical-align: middle;\n",
              "    }\n",
              "\n",
              "    .dataframe tbody tr th {\n",
              "        vertical-align: top;\n",
              "    }\n",
              "\n",
              "    .dataframe thead th {\n",
              "        text-align: right;\n",
              "    }\n",
              "</style>\n",
              "<table border=\"1\" class=\"dataframe\">\n",
              "  <thead>\n",
              "    <tr style=\"text-align: right;\">\n",
              "      <th></th>\n",
              "      <th>identificacion_del_contratista</th>\n",
              "      <th>nombre_de_la_entidad</th>\n",
              "      <th>nit_de_la_entidad</th>\n",
              "      <th>nivel_entidad</th>\n",
              "      <th>orden_entidad</th>\n",
              "      <th>municipio_obtencion</th>\n",
              "      <th>municipio_entrega</th>\n",
              "      <th>numero_del_contrato</th>\n",
              "      <th>numero_de_proceso</th>\n",
              "      <th>nom_raz_social_contratista</th>\n",
              "      <th>moneda</th>\n",
              "      <th>cuantia_contrato</th>\n",
              "      <th>valor_contrato_con_adiciones</th>\n",
              "      <th>valor_total_de_adiciones</th>\n",
              "      <th>sancion</th>\n",
              "      <th>anno_firma_del_contrato</th>\n",
              "      <th>estado_del_proceso</th>\n",
              "      <th>fecha_de_firma_del_contrato</th>\n",
              "      <th>fecha_ini_ejec_contrato</th>\n",
              "      <th>fecha_fin_ejec_contrato</th>\n",
              "      <th>municipios_ejecucion</th>\n",
              "      <th>departamento_ejecucion</th>\n",
              "      <th>latitud</th>\n",
              "      <th>longitud</th>\n",
              "      <th>terminado</th>\n",
              "      <th>departamento_entidad</th>\n",
              "      <th>Log_cuantia_contrato</th>\n",
              "      <th>Log_valor_contrato_con_adiciones</th>\n",
              "      <th>Log_valor_total_de_adiciones</th>\n",
              "    </tr>\n",
              "  </thead>\n",
              "  <tbody>\n",
              "    <tr>\n",
              "      <th>0</th>\n",
              "      <td>415837670</td>\n",
              "      <td>EJÉRCITO NACIONAL</td>\n",
              "      <td>No registra</td>\n",
              "      <td>NACIONAL</td>\n",
              "      <td>NACIONAL CENTRALIZADO</td>\n",
              "      <td>Puerto Carreño</td>\n",
              "      <td>Puerto Carreño</td>\n",
              "      <td>039-ESM4035-BASPC28-2013</td>\n",
              "      <td>MC038-BASPC28-ESM4035</td>\n",
              "      <td>DEPOSITO DENTAL NADER</td>\n",
              "      <td>Pesos (COP)</td>\n",
              "      <td>10000000.0</td>\n",
              "      <td>10000000.0</td>\n",
              "      <td>0.0</td>\n",
              "      <td>0</td>\n",
              "      <td>2013-01-01</td>\n",
              "      <td>Liquidado</td>\n",
              "      <td>2013-10-09</td>\n",
              "      <td>2013-10-09</td>\n",
              "      <td>2013-10-09</td>\n",
              "      <td>Puerto Carreño</td>\n",
              "      <td>Vichada</td>\n",
              "      <td>6.18903</td>\n",
              "      <td>-67.48588</td>\n",
              "      <td>1</td>\n",
              "      <td>Bogotá D.C.</td>\n",
              "      <td>16.118096</td>\n",
              "      <td>16.118096</td>\n",
              "      <td>0.0</td>\n",
              "    </tr>\n",
              "  </tbody>\n",
              "</table>\n",
              "</div>"
            ],
            "text/plain": [
              "  identificacion_del_contratista nombre_de_la_entidad nit_de_la_entidad  \\\n",
              "0                      415837670    EJÉRCITO NACIONAL       No registra   \n",
              "\n",
              "  nivel_entidad          orden_entidad municipio_obtencion municipio_entrega  \\\n",
              "0      NACIONAL  NACIONAL CENTRALIZADO      Puerto Carreño    Puerto Carreño   \n",
              "\n",
              "        numero_del_contrato      numero_de_proceso nom_raz_social_contratista  \\\n",
              "0  039-ESM4035-BASPC28-2013  MC038-BASPC28-ESM4035      DEPOSITO DENTAL NADER   \n",
              "\n",
              "        moneda  cuantia_contrato  valor_contrato_con_adiciones  \\\n",
              "0  Pesos (COP)        10000000.0                    10000000.0   \n",
              "\n",
              "   valor_total_de_adiciones  sancion anno_firma_del_contrato  \\\n",
              "0                       0.0        0              2013-01-01   \n",
              "\n",
              "  estado_del_proceso fecha_de_firma_del_contrato fecha_ini_ejec_contrato  \\\n",
              "0          Liquidado                  2013-10-09              2013-10-09   \n",
              "\n",
              "  fecha_fin_ejec_contrato municipios_ejecucion departamento_ejecucion  \\\n",
              "0              2013-10-09       Puerto Carreño                Vichada   \n",
              "\n",
              "   latitud  longitud  terminado departamento_entidad  Log_cuantia_contrato  \\\n",
              "0  6.18903 -67.48588          1          Bogotá D.C.             16.118096   \n",
              "\n",
              "   Log_valor_contrato_con_adiciones  Log_valor_total_de_adiciones  \n",
              "0                         16.118096                           0.0  "
            ]
          },
          "metadata": {
            "tags": []
          },
          "execution_count": 14
        }
      ]
    },
    {
      "cell_type": "code",
      "metadata": {
        "id": "qn013H8DsdYs",
        "colab_type": "code",
        "colab": {}
      },
      "source": [
        "df[\"fecha_fin_ejec_contrato\"]=pd.to_datetime(df[\"fecha_fin_ejec_contrato\"])\n",
        "df[\"anno_firma_del_contrato\"]=pd.to_datetime(df[\"anno_firma_del_contrato\"])\n",
        "\n",
        "df[\"Anno_fin_ejec_contrato\"]=[x.year for x in df[\"fecha_fin_ejec_contrato\"]]\n",
        "df[\"Numeroanno_firma_del_contrato\"]=[x.year for x in df[\"anno_firma_del_contrato\"]]"
      ],
      "execution_count": 0,
      "outputs": []
    },
    {
      "cell_type": "code",
      "metadata": {
        "id": "HLUF8X7FsdYx",
        "colab_type": "code",
        "colab": {}
      },
      "source": [
        "ColCluster1= ['orden_entidad','departamento_ejecucion','Log_cuantia_contrato','Log_valor_total_de_adiciones','sancion',\n",
        " 'Numeroanno_firma_del_contrato',\"Anno_fin_ejec_contrato\",'latitud', 'longitud','terminado']"
      ],
      "execution_count": 0,
      "outputs": []
    },
    {
      "cell_type": "code",
      "metadata": {
        "id": "yOBXnFG-sdY2",
        "colab_type": "code",
        "outputId": "45c1af6e-7711-414d-f7c4-b8d0536a9c81",
        "colab": {
          "base_uri": "https://localhost:8080/",
          "height": 204
        }
      },
      "source": [
        "df[ColCluster1].head()"
      ],
      "execution_count": 17,
      "outputs": [
        {
          "output_type": "execute_result",
          "data": {
            "text/html": [
              "<div>\n",
              "<style scoped>\n",
              "    .dataframe tbody tr th:only-of-type {\n",
              "        vertical-align: middle;\n",
              "    }\n",
              "\n",
              "    .dataframe tbody tr th {\n",
              "        vertical-align: top;\n",
              "    }\n",
              "\n",
              "    .dataframe thead th {\n",
              "        text-align: right;\n",
              "    }\n",
              "</style>\n",
              "<table border=\"1\" class=\"dataframe\">\n",
              "  <thead>\n",
              "    <tr style=\"text-align: right;\">\n",
              "      <th></th>\n",
              "      <th>orden_entidad</th>\n",
              "      <th>departamento_ejecucion</th>\n",
              "      <th>Log_cuantia_contrato</th>\n",
              "      <th>Log_valor_total_de_adiciones</th>\n",
              "      <th>sancion</th>\n",
              "      <th>Numeroanno_firma_del_contrato</th>\n",
              "      <th>Anno_fin_ejec_contrato</th>\n",
              "      <th>latitud</th>\n",
              "      <th>longitud</th>\n",
              "      <th>terminado</th>\n",
              "    </tr>\n",
              "  </thead>\n",
              "  <tbody>\n",
              "    <tr>\n",
              "      <th>0</th>\n",
              "      <td>NACIONAL CENTRALIZADO</td>\n",
              "      <td>Vichada</td>\n",
              "      <td>16.118096</td>\n",
              "      <td>0.0</td>\n",
              "      <td>0</td>\n",
              "      <td>2013</td>\n",
              "      <td>2013.0</td>\n",
              "      <td>6.18903</td>\n",
              "      <td>-67.485880</td>\n",
              "      <td>1</td>\n",
              "    </tr>\n",
              "    <tr>\n",
              "      <th>1</th>\n",
              "      <td>TERRITORIAL DISTRITAL MUNICIPAL NIVEL 5</td>\n",
              "      <td>Cundinamarca</td>\n",
              "      <td>16.618871</td>\n",
              "      <td>0.0</td>\n",
              "      <td>0</td>\n",
              "      <td>2013</td>\n",
              "      <td>2013.0</td>\n",
              "      <td>5.02208</td>\n",
              "      <td>-74.004807</td>\n",
              "      <td>1</td>\n",
              "    </tr>\n",
              "    <tr>\n",
              "      <th>2</th>\n",
              "      <td>TERRITORIAL DISTRITAL MUNICIPAL NIVEL 6</td>\n",
              "      <td>Antioquia</td>\n",
              "      <td>16.349921</td>\n",
              "      <td>0.0</td>\n",
              "      <td>0</td>\n",
              "      <td>2013</td>\n",
              "      <td>2013.0</td>\n",
              "      <td>6.25184</td>\n",
              "      <td>-75.563591</td>\n",
              "      <td>1</td>\n",
              "    </tr>\n",
              "    <tr>\n",
              "      <th>3</th>\n",
              "      <td>TERRITORIAL DEPARTAMENTAL DESCENTRALIZADO</td>\n",
              "      <td>Tolima</td>\n",
              "      <td>14.396329</td>\n",
              "      <td>0.0</td>\n",
              "      <td>0</td>\n",
              "      <td>2013</td>\n",
              "      <td>2013.0</td>\n",
              "      <td>4.43889</td>\n",
              "      <td>-75.232224</td>\n",
              "      <td>1</td>\n",
              "    </tr>\n",
              "    <tr>\n",
              "      <th>4</th>\n",
              "      <td>NACIONAL CENTRALIZADO</td>\n",
              "      <td>Vichada</td>\n",
              "      <td>14.846022</td>\n",
              "      <td>0.0</td>\n",
              "      <td>0</td>\n",
              "      <td>2013</td>\n",
              "      <td>2014.0</td>\n",
              "      <td>6.18903</td>\n",
              "      <td>-67.485880</td>\n",
              "      <td>1</td>\n",
              "    </tr>\n",
              "  </tbody>\n",
              "</table>\n",
              "</div>"
            ],
            "text/plain": [
              "                               orden_entidad departamento_ejecucion  \\\n",
              "0                      NACIONAL CENTRALIZADO                Vichada   \n",
              "1    TERRITORIAL DISTRITAL MUNICIPAL NIVEL 5           Cundinamarca   \n",
              "2    TERRITORIAL DISTRITAL MUNICIPAL NIVEL 6              Antioquia   \n",
              "3  TERRITORIAL DEPARTAMENTAL DESCENTRALIZADO                 Tolima   \n",
              "4                      NACIONAL CENTRALIZADO                Vichada   \n",
              "\n",
              "   Log_cuantia_contrato  Log_valor_total_de_adiciones  sancion  \\\n",
              "0             16.118096                           0.0        0   \n",
              "1             16.618871                           0.0        0   \n",
              "2             16.349921                           0.0        0   \n",
              "3             14.396329                           0.0        0   \n",
              "4             14.846022                           0.0        0   \n",
              "\n",
              "   Numeroanno_firma_del_contrato  Anno_fin_ejec_contrato  latitud   longitud  \\\n",
              "0                           2013                  2013.0  6.18903 -67.485880   \n",
              "1                           2013                  2013.0  5.02208 -74.004807   \n",
              "2                           2013                  2013.0  6.25184 -75.563591   \n",
              "3                           2013                  2013.0  4.43889 -75.232224   \n",
              "4                           2013                  2014.0  6.18903 -67.485880   \n",
              "\n",
              "   terminado  \n",
              "0          1  \n",
              "1          1  \n",
              "2          1  \n",
              "3          1  \n",
              "4          1  "
            ]
          },
          "metadata": {
            "tags": []
          },
          "execution_count": 17
        }
      ]
    },
    {
      "cell_type": "code",
      "metadata": {
        "id": "jllSNgLTsdWu",
        "colab_type": "code",
        "outputId": "15d0363a-3531-4191-f6c7-f0334a9a5179",
        "colab": {
          "base_uri": "https://localhost:8080/",
          "height": 1000
        }
      },
      "source": [
        "import matplotlib.pyplot as plt\n",
        "\n",
        "for i in df[ColCluster1].select_dtypes(exclude=['object']).columns.unique():\n",
        "    sns.catplot(x=\"sancion\", y=i, kind=\"box\", data=df[ColCluster1]);\n",
        "    plt.title('Histogram {}'.format(i))\n",
        "    plt.figure()"
      ],
      "execution_count": 18,
      "outputs": [
        {
          "output_type": "display_data",
          "data": {
            "image/png": "[encoded data removed]",
            "text/plain": [
              "<Figure size 360x360 with 1 Axes>"
            ]
          },
          "metadata": {
            "tags": []
          }
        },
        {
          "output_type": "display_data",
          "data": {
            "text/plain": [
              "<Figure size 432x288 with 0 Axes>"
            ]
          },
          "metadata": {
            "tags": []
          }
        },
        {
          "output_type": "display_data",
          "data": {
            "image/png": "[encoded data removed]",
            "text/plain": [
              "<Figure size 360x360 with 1 Axes>"
            ]
          },
          "metadata": {
            "tags": []
          }
        },
        {
          "output_type": "display_data",
          "data": {
            "text/plain": [
              "<Figure size 432x288 with 0 Axes>"
            ]
          },
          "metadata": {
            "tags": []
          }
        },
        {
          "output_type": "display_data",
          "data": {
            "image/png": "[encoded data removed]",
            "text/plain": [
              "<Figure size 360x360 with 1 Axes>"
            ]
          },
          "metadata": {
            "tags": []
          }
        },
        {
          "output_type": "display_data",
          "data": {
            "text/plain": [
              "<Figure size 432x288 with 0 Axes>"
            ]
          },
          "metadata": {
            "tags": []
          }
        },
        {
          "output_type": "display_data",
          "data": {
            "image/png": "[encoded data removed]",
            "text/plain": [
              "<Figure size 360x360 with 1 Axes>"
            ]
          },
          "metadata": {
            "tags": []
          }
        },
        {
          "output_type": "display_data",
          "data": {
            "text/plain": [
              "<Figure size 432x288 with 0 Axes>"
            ]
          },
          "metadata": {
            "tags": []
          }
        },
        {
          "output_type": "display_data",
          "data": {
            "image/png": "[encoded data removed]",
            "text/plain": [
              "<Figure size 360x360 with 1 Axes>"
            ]
          },
          "metadata": {
            "tags": []
          }
        },
        {
          "output_type": "display_data",
          "data": {
            "text/plain": [
              "<Figure size 432x288 with 0 Axes>"
            ]
          },
          "metadata": {
            "tags": []
          }
        },
        {
          "output_type": "display_data",
          "data": {
            "image/png": "[encoded data removed]",
            "text/plain": [
              "<Figure size 360x360 with 1 Axes>"
            ]
          },
          "metadata": {
            "tags": []
          }
        },
        {
          "output_type": "display_data",
          "data": {
            "text/plain": [
              "<Figure size 432x288 with 0 Axes>"
            ]
          },
          "metadata": {
            "tags": []
          }
        },
        {
          "output_type": "display_data",
          "data": {
            "image/png": "[encoded data removed]",
            "text/plain": [
              "<Figure size 360x360 with 1 Axes>"
            ]
          },
          "metadata": {
            "tags": []
          }
        },
        {
          "output_type": "display_data",
          "data": {
            "text/plain": [
              "<Figure size 432x288 with 0 Axes>"
            ]
          },
          "metadata": {
            "tags": []
          }
        },
        {
          "output_type": "display_data",
          "data": {
            "image/png": "[encoded data removed]",
            "text/plain": [
              "<Figure size 360x360 with 1 Axes>"
            ]
          },
          "metadata": {
            "tags": []
          }
        },
        {
          "output_type": "display_data",
          "data": {
            "text/plain": [
              "<Figure size 432x288 with 0 Axes>"
            ]
          },
          "metadata": {
            "tags": []
          }
        }
      ]
    },
    {
      "cell_type": "markdown",
      "metadata": {
        "id": "Z2wRHJvUsdY6",
        "colab_type": "text"
      },
      "source": [
        "#### Kmeans\n",
        "\n",
        "\n",
        "\n"
      ]
    },
    {
      "cell_type": "code",
      "metadata": {
        "id": "dne1TGBFsdY7",
        "colab_type": "code",
        "colab": {}
      },
      "source": [
        "def deal_with_nans(x, thresh=0.7):\n",
        "    \"\"\"\n",
        "    Deal with nan data\n",
        "    First drop columns for which there isn't enoug data.\n",
        "    Then fill missing values using median for continuous features and mode for categorical\n",
        "    Finally drop columns with no variability\n",
        "    :param x: (pandas.DataFrame) features dataframe\n",
        "    :param thresh: (float) features with missing values below the thresh are discarted\n",
        "    :return: (pandas.DataFrame) cleaned dataframe\n",
        "    \"\"\"\n",
        "\n",
        "    # Drop rows with no data\n",
        "    dff = x.dropna(how='all')\n",
        "\n",
        "    # Drops columns with not enough data\n",
        "    dff.dropna(thresh=thresh * len(dff), axis=1, inplace=True)\n",
        "\n",
        "    # Identify continuous features\n",
        "    float_vars = [y for y in dff.columns if 'float' in str(dff[y].dtype)]\n",
        "\n",
        "    # Fill missing values\n",
        "    for feat in dff.columns:\n",
        "        if feat in float_vars:\n",
        "            # Fill continuous features with median\n",
        "            dff[feat] = dff[feat].fillna(dff[feat].median())\n",
        "        else:\n",
        "            # Fill categorical features with mode\n",
        "            dff[feat] = dff[feat].fillna(dff[feat].mode()[0])\n",
        "\n",
        "    # Drops columns with no variability\n",
        "    dff = dff[[y for y in dff.columns if len(dff[y].unique()) > 1]]\n",
        "\n",
        "    # Returns dataframe with no NaNs\n",
        "    return dff\n",
        "\n",
        "\n",
        "def clean_outliers(x, alpha=0.05):\n",
        "    \"\"\"\n",
        "    Put all outliers on the confidence interval limit.\n",
        "    :param x: (pandas.DataFrame) matrix of features\n",
        "    :param alpha: (float) significance, 5% by default\n",
        "    :return: (pandas.DataFrame) matrix with no outliers\n",
        "    \"\"\"\n",
        "\n",
        "    # Cleaning Initialization\n",
        "    x_c = x.copy()\n",
        "\n",
        "    # Identification of categorical variables\n",
        "    cont_vars = [x for x in x_c.columns if 'float' in str(x_c[x].dtype)]\n",
        "\n",
        "    # If no continuous variables\n",
        "    if len(cont_vars) == 0:\n",
        "        return x_c\n",
        "\n",
        "    # Cleaning\n",
        "    for var in cont_vars:\n",
        "        ll = x_c[var].quantile(alpha)\n",
        "        ul = x_c[var].quantile(1-alpha)\n",
        "        x_c[var] = [ll if x < ll else (ul if x > ul else x) for x in x_c[var]]\n",
        "\n",
        "    # Return\n",
        "    return x_c\n",
        "\n",
        "\n",
        "def standarize(x):\n",
        "    \"\"\"\n",
        "    Normalize data\n",
        "    :param x: (pandas.DataFrame) matrix to normalize\n",
        "    :return: (pandas.DataFrame) normalized matrix\n",
        "    \"\"\"\n",
        "\n",
        "    # Outliers Treatment\n",
        "    x_oc = clean_outliers(x)\n",
        "\n",
        "    scale = StandardScaler()\n",
        "    return pd.DataFrame(scale.fit_transform(x_oc), columns=x.columns, index=x_oc.index)\n",
        "\n",
        "\n",
        "def get_principal_componets(x, n_pca=None):\n",
        "    \"\"\"\n",
        "    Obtain the principal components from a set of continuous features.\n",
        "    If the number of components is not especified, the model find the minimum number\n",
        "    required to explain 90% of variance.\n",
        "    :param x: (pandas.DataFrame) matrix from which the components are extracted\n",
        "    :param n_pca: number of components\n",
        "    :return: (pandas.DataFrame) matrix of components\n",
        "    \"\"\"\n",
        "\n",
        "    # Standarization\n",
        "    x_std = standarize(x)\n",
        "\n",
        "    # Identify minimum number of components to explain 90% of the variability\n",
        "    if n_pca is None:\n",
        "        pca = PCA(random_state=1234)\n",
        "        pca.fit(x_std)\n",
        "        loadings = [round(y, 2) for y in pca.explained_variance_ratio_]\n",
        "        cumsumload = list(np.cumsum(loadings))\n",
        "        ncomps = [(y + 1, cumsumload[y]) for y in range(len(cumsumload))]\n",
        "        n_pca = [y for y in ncomps if y[1] >= 0.8][0][0]\n",
        "\n",
        "    # Calculate and return pcs\n",
        "    pca = PCA(n_components=n_pca, random_state=1234)\n",
        "    dp = pd.DataFrame(\n",
        "        pca.fit_transform(x_std),\n",
        "        columns=['PCA '+str(i+1) for i in range(n_pca)],\n",
        "        index=x.index\n",
        "    )\n",
        "    return dp\n"
      ],
      "execution_count": 0,
      "outputs": []
    },
    {
      "cell_type": "markdown",
      "metadata": {
        "id": "AygCKnZQsdZI",
        "colab_type": "text"
      },
      "source": [
        "Selección de columnas de interés y prerpocesamiento para standarizar las variables númericas y hacer One-hot-encoding a las variables categoricas"
      ]
    },
    {
      "cell_type": "code",
      "metadata": {
        "id": "vOqlj2FzsdZK",
        "colab_type": "code",
        "colab": {}
      },
      "source": [
        "dfCluster=df[ColCluster1].replace([np.inf, -np.inf], np.nan)"
      ],
      "execution_count": 0,
      "outputs": []
    },
    {
      "cell_type": "code",
      "metadata": {
        "id": "dl6EUDEAsdZP",
        "colab_type": "code",
        "colab": {}
      },
      "source": [
        "#Separación del tipo de datos\n",
        "df_Numeric = dfCluster.select_dtypes(include=['float64','int64'])\n",
        "df_Cat = dfCluster.select_dtypes(include=['object'])"
      ],
      "execution_count": 0,
      "outputs": []
    },
    {
      "cell_type": "code",
      "metadata": {
        "id": "mB6kQQebsdZU",
        "colab_type": "code",
        "colab": {}
      },
      "source": [
        "\n",
        "df_Numeric=df_Numeric.replace([np.inf, -np.inf], np.nan)\n",
        "df_Numeric=deal_with_nans(df_Numeric) "
      ],
      "execution_count": 0,
      "outputs": []
    },
    {
      "cell_type": "code",
      "metadata": {
        "id": "IGu2X2Q_sdZa",
        "colab_type": "code",
        "colab": {}
      },
      "source": [
        "# Estandarización de datos\n",
        "scaler = StandardScaler()\n",
        "# fit df\n",
        "scaler.fit(df_Numeric)\n",
        "StandardScaler(copy=True, with_mean=True, with_std=True)\n",
        "\n",
        "df_StandScale = scaler.transform(df_Numeric)\n",
        "# Df transform\n",
        "df_StandScale= pd.DataFrame(df_StandScale, columns=df_Numeric.columns)"
      ],
      "execution_count": 0,
      "outputs": []
    },
    {
      "cell_type": "code",
      "metadata": {
        "id": "CGKHY-5bsdZd",
        "colab_type": "code",
        "outputId": "5c9d2bac-edfa-427e-ebaa-bbec57c7e29b",
        "colab": {
          "base_uri": "https://localhost:8080/",
          "height": 34
        }
      },
      "source": [
        "df_Cat_OHE= pd.get_dummies(df_Cat)\n",
        "df_Cat_OHE.shape"
      ],
      "execution_count": 24,
      "outputs": [
        {
          "output_type": "execute_result",
          "data": {
            "text/plain": [
              "(100000, 45)"
            ]
          },
          "metadata": {
            "tags": []
          },
          "execution_count": 24
        }
      ]
    },
    {
      "cell_type": "code",
      "metadata": {
        "id": "bg8SNA4qsdZi",
        "colab_type": "code",
        "colab": {}
      },
      "source": [
        "# PCA con el objetivo de reducir dimensionalmente la cantidad de columnas "
      ],
      "execution_count": 0,
      "outputs": []
    },
    {
      "cell_type": "markdown",
      "metadata": {
        "id": "v0Cre0HgsdZs",
        "colab_type": "text"
      },
      "source": [
        "Obtención de pca de df numerico y df categorico"
      ]
    },
    {
      "cell_type": "code",
      "metadata": {
        "id": "rYDckwwgsdZy",
        "colab_type": "code",
        "colab": {}
      },
      "source": [
        "df_SOHE = pd.merge(df_Numeric, df_Cat_OHE, left_index=True, right_index=True, suffixes=('_Num', '_Cat'))"
      ],
      "execution_count": 0,
      "outputs": []
    },
    {
      "cell_type": "code",
      "metadata": {
        "id": "1OcOlHllsdZ0",
        "colab_type": "code",
        "outputId": "5fa65f29-f21f-479f-c455-5e03e8401376",
        "colab": {
          "base_uri": "https://localhost:8080/",
          "height": 258
        }
      },
      "source": [
        "df_SOHE.head()"
      ],
      "execution_count": 27,
      "outputs": [
        {
          "output_type": "execute_result",
          "data": {
            "text/html": [
              "<div>\n",
              "<style scoped>\n",
              "    .dataframe tbody tr th:only-of-type {\n",
              "        vertical-align: middle;\n",
              "    }\n",
              "\n",
              "    .dataframe tbody tr th {\n",
              "        vertical-align: top;\n",
              "    }\n",
              "\n",
              "    .dataframe thead th {\n",
              "        text-align: right;\n",
              "    }\n",
              "</style>\n",
              "<table border=\"1\" class=\"dataframe\">\n",
              "  <thead>\n",
              "    <tr style=\"text-align: right;\">\n",
              "      <th></th>\n",
              "      <th>Log_cuantia_contrato</th>\n",
              "      <th>Log_valor_total_de_adiciones</th>\n",
              "      <th>sancion</th>\n",
              "      <th>Numeroanno_firma_del_contrato</th>\n",
              "      <th>Anno_fin_ejec_contrato</th>\n",
              "      <th>latitud</th>\n",
              "      <th>longitud</th>\n",
              "      <th>terminado</th>\n",
              "      <th>orden_entidad_DISTRITO CAPITAL</th>\n",
              "      <th>orden_entidad_NACIONAL CENTRALIZADO</th>\n",
              "      <th>orden_entidad_NACIONAL DESCENTRALIZADO</th>\n",
              "      <th>orden_entidad_TERRITORIAL DEPARTAMENTAL CENTRALIZADO</th>\n",
              "      <th>orden_entidad_TERRITORIAL DEPARTAMENTAL DESCENTRALIZADO</th>\n",
              "      <th>orden_entidad_TERRITORIAL DISTRITAL MUNICIPAL NIVEL 1</th>\n",
              "      <th>orden_entidad_TERRITORIAL DISTRITAL MUNICIPAL NIVEL 2</th>\n",
              "      <th>orden_entidad_TERRITORIAL DISTRITAL MUNICIPAL NIVEL 3</th>\n",
              "      <th>orden_entidad_TERRITORIAL DISTRITAL MUNICIPAL NIVEL 4</th>\n",
              "      <th>orden_entidad_TERRITORIAL DISTRITAL MUNICIPAL NIVEL 5</th>\n",
              "      <th>orden_entidad_TERRITORIAL DISTRITAL MUNICIPAL NIVEL 6</th>\n",
              "      <th>departamento_ejecucion_Amazonas</th>\n",
              "      <th>departamento_ejecucion_Antioquia</th>\n",
              "      <th>departamento_ejecucion_Arauca</th>\n",
              "      <th>departamento_ejecucion_Atlántico</th>\n",
              "      <th>departamento_ejecucion_Bogotá D.C.</th>\n",
              "      <th>departamento_ejecucion_Bolívar</th>\n",
              "      <th>departamento_ejecucion_Boyacá</th>\n",
              "      <th>departamento_ejecucion_Caldas</th>\n",
              "      <th>departamento_ejecucion_Caquetá</th>\n",
              "      <th>departamento_ejecucion_Casanare</th>\n",
              "      <th>departamento_ejecucion_Cauca</th>\n",
              "      <th>departamento_ejecucion_Cesar</th>\n",
              "      <th>departamento_ejecucion_Chocó</th>\n",
              "      <th>departamento_ejecucion_Colombia</th>\n",
              "      <th>departamento_ejecucion_Cundinamarca</th>\n",
              "      <th>departamento_ejecucion_Córdoba</th>\n",
              "      <th>departamento_ejecucion_Guainía</th>\n",
              "      <th>departamento_ejecucion_Guaviare</th>\n",
              "      <th>departamento_ejecucion_Huila</th>\n",
              "      <th>departamento_ejecucion_La Guajira</th>\n",
              "      <th>departamento_ejecucion_Magdalena</th>\n",
              "      <th>departamento_ejecucion_Meta</th>\n",
              "      <th>departamento_ejecucion_Nariño</th>\n",
              "      <th>departamento_ejecucion_Norte De Santander</th>\n",
              "      <th>departamento_ejecucion_Putumayo</th>\n",
              "      <th>departamento_ejecucion_Quindío</th>\n",
              "      <th>departamento_ejecucion_Risaralda</th>\n",
              "      <th>departamento_ejecucion_San Andrés, Providencia y Santa Catalina</th>\n",
              "      <th>departamento_ejecucion_Santander</th>\n",
              "      <th>departamento_ejecucion_Sucre</th>\n",
              "      <th>departamento_ejecucion_Tolima</th>\n",
              "      <th>departamento_ejecucion_Valle del Cauca</th>\n",
              "      <th>departamento_ejecucion_Vaupés</th>\n",
              "      <th>departamento_ejecucion_Vichada</th>\n",
              "    </tr>\n",
              "  </thead>\n",
              "  <tbody>\n",
              "    <tr>\n",
              "      <th>0</th>\n",
              "      <td>16.118096</td>\n",
              "      <td>0.0</td>\n",
              "      <td>0</td>\n",
              "      <td>2013</td>\n",
              "      <td>2013.0</td>\n",
              "      <td>6.18903</td>\n",
              "      <td>-67.485880</td>\n",
              "      <td>1</td>\n",
              "      <td>0</td>\n",
              "      <td>1</td>\n",
              "      <td>0</td>\n",
              "      <td>0</td>\n",
              "      <td>0</td>\n",
              "      <td>0</td>\n",
              "      <td>0</td>\n",
              "      <td>0</td>\n",
              "      <td>0</td>\n",
              "      <td>0</td>\n",
              "      <td>0</td>\n",
              "      <td>0</td>\n",
              "      <td>0</td>\n",
              "      <td>0</td>\n",
              "      <td>0</td>\n",
              "      <td>0</td>\n",
              "      <td>0</td>\n",
              "      <td>0</td>\n",
              "      <td>0</td>\n",
              "      <td>0</td>\n",
              "      <td>0</td>\n",
              "      <td>0</td>\n",
              "      <td>0</td>\n",
              "      <td>0</td>\n",
              "      <td>0</td>\n",
              "      <td>0</td>\n",
              "      <td>0</td>\n",
              "      <td>0</td>\n",
              "      <td>0</td>\n",
              "      <td>0</td>\n",
              "      <td>0</td>\n",
              "      <td>0</td>\n",
              "      <td>0</td>\n",
              "      <td>0</td>\n",
              "      <td>0</td>\n",
              "      <td>0</td>\n",
              "      <td>0</td>\n",
              "      <td>0</td>\n",
              "      <td>0</td>\n",
              "      <td>0</td>\n",
              "      <td>0</td>\n",
              "      <td>0</td>\n",
              "      <td>0</td>\n",
              "      <td>0</td>\n",
              "      <td>1</td>\n",
              "    </tr>\n",
              "    <tr>\n",
              "      <th>1</th>\n",
              "      <td>16.618871</td>\n",
              "      <td>0.0</td>\n",
              "      <td>0</td>\n",
              "      <td>2013</td>\n",
              "      <td>2013.0</td>\n",
              "      <td>5.02208</td>\n",
              "      <td>-74.004807</td>\n",
              "      <td>1</td>\n",
              "      <td>0</td>\n",
              "      <td>0</td>\n",
              "      <td>0</td>\n",
              "      <td>0</td>\n",
              "      <td>0</td>\n",
              "      <td>0</td>\n",
              "      <td>0</td>\n",
              "      <td>0</td>\n",
              "      <td>0</td>\n",
              "      <td>1</td>\n",
              "      <td>0</td>\n",
              "      <td>0</td>\n",
              "      <td>0</td>\n",
              "      <td>0</td>\n",
              "      <td>0</td>\n",
              "      <td>0</td>\n",
              "      <td>0</td>\n",
              "      <td>0</td>\n",
              "      <td>0</td>\n",
              "      <td>0</td>\n",
              "      <td>0</td>\n",
              "      <td>0</td>\n",
              "      <td>0</td>\n",
              "      <td>0</td>\n",
              "      <td>0</td>\n",
              "      <td>1</td>\n",
              "      <td>0</td>\n",
              "      <td>0</td>\n",
              "      <td>0</td>\n",
              "      <td>0</td>\n",
              "      <td>0</td>\n",
              "      <td>0</td>\n",
              "      <td>0</td>\n",
              "      <td>0</td>\n",
              "      <td>0</td>\n",
              "      <td>0</td>\n",
              "      <td>0</td>\n",
              "      <td>0</td>\n",
              "      <td>0</td>\n",
              "      <td>0</td>\n",
              "      <td>0</td>\n",
              "      <td>0</td>\n",
              "      <td>0</td>\n",
              "      <td>0</td>\n",
              "      <td>0</td>\n",
              "    </tr>\n",
              "    <tr>\n",
              "      <th>2</th>\n",
              "      <td>16.349921</td>\n",
              "      <td>0.0</td>\n",
              "      <td>0</td>\n",
              "      <td>2013</td>\n",
              "      <td>2013.0</td>\n",
              "      <td>6.25184</td>\n",
              "      <td>-75.563591</td>\n",
              "      <td>1</td>\n",
              "      <td>0</td>\n",
              "      <td>0</td>\n",
              "      <td>0</td>\n",
              "      <td>0</td>\n",
              "      <td>0</td>\n",
              "      <td>0</td>\n",
              "      <td>0</td>\n",
              "      <td>0</td>\n",
              "      <td>0</td>\n",
              "      <td>0</td>\n",
              "      <td>1</td>\n",
              "      <td>0</td>\n",
              "      <td>1</td>\n",
              "      <td>0</td>\n",
              "      <td>0</td>\n",
              "      <td>0</td>\n",
              "      <td>0</td>\n",
              "      <td>0</td>\n",
              "      <td>0</td>\n",
              "      <td>0</td>\n",
              "      <td>0</td>\n",
              "      <td>0</td>\n",
              "      <td>0</td>\n",
              "      <td>0</td>\n",
              "      <td>0</td>\n",
              "      <td>0</td>\n",
              "      <td>0</td>\n",
              "      <td>0</td>\n",
              "      <td>0</td>\n",
              "      <td>0</td>\n",
              "      <td>0</td>\n",
              "      <td>0</td>\n",
              "      <td>0</td>\n",
              "      <td>0</td>\n",
              "      <td>0</td>\n",
              "      <td>0</td>\n",
              "      <td>0</td>\n",
              "      <td>0</td>\n",
              "      <td>0</td>\n",
              "      <td>0</td>\n",
              "      <td>0</td>\n",
              "      <td>0</td>\n",
              "      <td>0</td>\n",
              "      <td>0</td>\n",
              "      <td>0</td>\n",
              "    </tr>\n",
              "    <tr>\n",
              "      <th>3</th>\n",
              "      <td>14.396329</td>\n",
              "      <td>0.0</td>\n",
              "      <td>0</td>\n",
              "      <td>2013</td>\n",
              "      <td>2013.0</td>\n",
              "      <td>4.43889</td>\n",
              "      <td>-75.232224</td>\n",
              "      <td>1</td>\n",
              "      <td>0</td>\n",
              "      <td>0</td>\n",
              "      <td>0</td>\n",
              "      <td>0</td>\n",
              "      <td>1</td>\n",
              "      <td>0</td>\n",
              "      <td>0</td>\n",
              "      <td>0</td>\n",
              "      <td>0</td>\n",
              "      <td>0</td>\n",
              "      <td>0</td>\n",
              "      <td>0</td>\n",
              "      <td>0</td>\n",
              "      <td>0</td>\n",
              "      <td>0</td>\n",
              "      <td>0</td>\n",
              "      <td>0</td>\n",
              "      <td>0</td>\n",
              "      <td>0</td>\n",
              "      <td>0</td>\n",
              "      <td>0</td>\n",
              "      <td>0</td>\n",
              "      <td>0</td>\n",
              "      <td>0</td>\n",
              "      <td>0</td>\n",
              "      <td>0</td>\n",
              "      <td>0</td>\n",
              "      <td>0</td>\n",
              "      <td>0</td>\n",
              "      <td>0</td>\n",
              "      <td>0</td>\n",
              "      <td>0</td>\n",
              "      <td>0</td>\n",
              "      <td>0</td>\n",
              "      <td>0</td>\n",
              "      <td>0</td>\n",
              "      <td>0</td>\n",
              "      <td>0</td>\n",
              "      <td>0</td>\n",
              "      <td>0</td>\n",
              "      <td>0</td>\n",
              "      <td>1</td>\n",
              "      <td>0</td>\n",
              "      <td>0</td>\n",
              "      <td>0</td>\n",
              "    </tr>\n",
              "    <tr>\n",
              "      <th>4</th>\n",
              "      <td>14.846022</td>\n",
              "      <td>0.0</td>\n",
              "      <td>0</td>\n",
              "      <td>2013</td>\n",
              "      <td>2014.0</td>\n",
              "      <td>6.18903</td>\n",
              "      <td>-67.485880</td>\n",
              "      <td>1</td>\n",
              "      <td>0</td>\n",
              "      <td>1</td>\n",
              "      <td>0</td>\n",
              "      <td>0</td>\n",
              "      <td>0</td>\n",
              "      <td>0</td>\n",
              "      <td>0</td>\n",
              "      <td>0</td>\n",
              "      <td>0</td>\n",
              "      <td>0</td>\n",
              "      <td>0</td>\n",
              "      <td>0</td>\n",
              "      <td>0</td>\n",
              "      <td>0</td>\n",
              "      <td>0</td>\n",
              "      <td>0</td>\n",
              "      <td>0</td>\n",
              "      <td>0</td>\n",
              "      <td>0</td>\n",
              "      <td>0</td>\n",
              "      <td>0</td>\n",
              "      <td>0</td>\n",
              "      <td>0</td>\n",
              "      <td>0</td>\n",
              "      <td>0</td>\n",
              "      <td>0</td>\n",
              "      <td>0</td>\n",
              "      <td>0</td>\n",
              "      <td>0</td>\n",
              "      <td>0</td>\n",
              "      <td>0</td>\n",
              "      <td>0</td>\n",
              "      <td>0</td>\n",
              "      <td>0</td>\n",
              "      <td>0</td>\n",
              "      <td>0</td>\n",
              "      <td>0</td>\n",
              "      <td>0</td>\n",
              "      <td>0</td>\n",
              "      <td>0</td>\n",
              "      <td>0</td>\n",
              "      <td>0</td>\n",
              "      <td>0</td>\n",
              "      <td>0</td>\n",
              "      <td>1</td>\n",
              "    </tr>\n",
              "  </tbody>\n",
              "</table>\n",
              "</div>"
            ],
            "text/plain": [
              "   Log_cuantia_contrato  Log_valor_total_de_adiciones  sancion  \\\n",
              "0             16.118096                           0.0        0   \n",
              "1             16.618871                           0.0        0   \n",
              "2             16.349921                           0.0        0   \n",
              "3             14.396329                           0.0        0   \n",
              "4             14.846022                           0.0        0   \n",
              "\n",
              "   Numeroanno_firma_del_contrato  Anno_fin_ejec_contrato  latitud   longitud  \\\n",
              "0                           2013                  2013.0  6.18903 -67.485880   \n",
              "1                           2013                  2013.0  5.02208 -74.004807   \n",
              "2                           2013                  2013.0  6.25184 -75.563591   \n",
              "3                           2013                  2013.0  4.43889 -75.232224   \n",
              "4                           2013                  2014.0  6.18903 -67.485880   \n",
              "\n",
              "   terminado  orden_entidad_DISTRITO CAPITAL  \\\n",
              "0          1                               0   \n",
              "1          1                               0   \n",
              "2          1                               0   \n",
              "3          1                               0   \n",
              "4          1                               0   \n",
              "\n",
              "   orden_entidad_NACIONAL CENTRALIZADO  \\\n",
              "0                                    1   \n",
              "1                                    0   \n",
              "2                                    0   \n",
              "3                                    0   \n",
              "4                                    1   \n",
              "\n",
              "   orden_entidad_NACIONAL DESCENTRALIZADO  \\\n",
              "0                                       0   \n",
              "1                                       0   \n",
              "2                                       0   \n",
              "3                                       0   \n",
              "4                                       0   \n",
              "\n",
              "   orden_entidad_TERRITORIAL DEPARTAMENTAL CENTRALIZADO  \\\n",
              "0                                                  0      \n",
              "1                                                  0      \n",
              "2                                                  0      \n",
              "3                                                  0      \n",
              "4                                                  0      \n",
              "\n",
              "   orden_entidad_TERRITORIAL DEPARTAMENTAL DESCENTRALIZADO  \\\n",
              "0                                                  0         \n",
              "1                                                  0         \n",
              "2                                                  0         \n",
              "3                                                  1         \n",
              "4                                                  0         \n",
              "\n",
              "   orden_entidad_TERRITORIAL DISTRITAL MUNICIPAL NIVEL 1  \\\n",
              "0                                                  0       \n",
              "1                                                  0       \n",
              "2                                                  0       \n",
              "3                                                  0       \n",
              "4                                                  0       \n",
              "\n",
              "   orden_entidad_TERRITORIAL DISTRITAL MUNICIPAL NIVEL 2  \\\n",
              "0                                                  0       \n",
              "1                                                  0       \n",
              "2                                                  0       \n",
              "3                                                  0       \n",
              "4                                                  0       \n",
              "\n",
              "   orden_entidad_TERRITORIAL DISTRITAL MUNICIPAL NIVEL 3  \\\n",
              "0                                                  0       \n",
              "1                                                  0       \n",
              "2                                                  0       \n",
              "3                                                  0       \n",
              "4                                                  0       \n",
              "\n",
              "   orden_entidad_TERRITORIAL DISTRITAL MUNICIPAL NIVEL 4  \\\n",
              "0                                                  0       \n",
              "1                                                  0       \n",
              "2                                                  0       \n",
              "3                                                  0       \n",
              "4                                                  0       \n",
              "\n",
              "   orden_entidad_TERRITORIAL DISTRITAL MUNICIPAL NIVEL 5  \\\n",
              "0                                                  0       \n",
              "1                                                  1       \n",
              "2                                                  0       \n",
              "3                                                  0       \n",
              "4                                                  0       \n",
              "\n",
              "   orden_entidad_TERRITORIAL DISTRITAL MUNICIPAL NIVEL 6  \\\n",
              "0                                                  0       \n",
              "1                                                  0       \n",
              "2                                                  1       \n",
              "3                                                  0       \n",
              "4                                                  0       \n",
              "\n",
              "   departamento_ejecucion_Amazonas  departamento_ejecucion_Antioquia  \\\n",
              "0                                0                                 0   \n",
              "1                                0                                 0   \n",
              "2                                0                                 1   \n",
              "3                                0                                 0   \n",
              "4                                0                                 0   \n",
              "\n",
              "   departamento_ejecucion_Arauca  departamento_ejecucion_Atlántico  \\\n",
              "0                              0                                 0   \n",
              "1                              0                                 0   \n",
              "2                              0                                 0   \n",
              "3                              0                                 0   \n",
              "4                              0                                 0   \n",
              "\n",
              "   departamento_ejecucion_Bogotá D.C.  departamento_ejecucion_Bolívar  \\\n",
              "0                                   0                               0   \n",
              "1                                   0                               0   \n",
              "2                                   0                               0   \n",
              "3                                   0                               0   \n",
              "4                                   0                               0   \n",
              "\n",
              "   departamento_ejecucion_Boyacá  departamento_ejecucion_Caldas  \\\n",
              "0                              0                              0   \n",
              "1                              0                              0   \n",
              "2                              0                              0   \n",
              "3                              0                              0   \n",
              "4                              0                              0   \n",
              "\n",
              "   departamento_ejecucion_Caquetá  departamento_ejecucion_Casanare  \\\n",
              "0                               0                                0   \n",
              "1                               0                                0   \n",
              "2                               0                                0   \n",
              "3                               0                                0   \n",
              "4                               0                                0   \n",
              "\n",
              "   departamento_ejecucion_Cauca  departamento_ejecucion_Cesar  \\\n",
              "0                             0                             0   \n",
              "1                             0                             0   \n",
              "2                             0                             0   \n",
              "3                             0                             0   \n",
              "4                             0                             0   \n",
              "\n",
              "   departamento_ejecucion_Chocó  departamento_ejecucion_Colombia  \\\n",
              "0                             0                                0   \n",
              "1                             0                                0   \n",
              "2                             0                                0   \n",
              "3                             0                                0   \n",
              "4                             0                                0   \n",
              "\n",
              "   departamento_ejecucion_Cundinamarca  departamento_ejecucion_Córdoba  \\\n",
              "0                                    0                               0   \n",
              "1                                    1                               0   \n",
              "2                                    0                               0   \n",
              "3                                    0                               0   \n",
              "4                                    0                               0   \n",
              "\n",
              "   departamento_ejecucion_Guainía  departamento_ejecucion_Guaviare  \\\n",
              "0                               0                                0   \n",
              "1                               0                                0   \n",
              "2                               0                                0   \n",
              "3                               0                                0   \n",
              "4                               0                                0   \n",
              "\n",
              "   departamento_ejecucion_Huila  departamento_ejecucion_La Guajira  \\\n",
              "0                             0                                  0   \n",
              "1                             0                                  0   \n",
              "2                             0                                  0   \n",
              "3                             0                                  0   \n",
              "4                             0                                  0   \n",
              "\n",
              "   departamento_ejecucion_Magdalena  departamento_ejecucion_Meta  \\\n",
              "0                                 0                            0   \n",
              "1                                 0                            0   \n",
              "2                                 0                            0   \n",
              "3                                 0                            0   \n",
              "4                                 0                            0   \n",
              "\n",
              "   departamento_ejecucion_Nariño  departamento_ejecucion_Norte De Santander  \\\n",
              "0                              0                                          0   \n",
              "1                              0                                          0   \n",
              "2                              0                                          0   \n",
              "3                              0                                          0   \n",
              "4                              0                                          0   \n",
              "\n",
              "   departamento_ejecucion_Putumayo  departamento_ejecucion_Quindío  \\\n",
              "0                                0                               0   \n",
              "1                                0                               0   \n",
              "2                                0                               0   \n",
              "3                                0                               0   \n",
              "4                                0                               0   \n",
              "\n",
              "   departamento_ejecucion_Risaralda  \\\n",
              "0                                 0   \n",
              "1                                 0   \n",
              "2                                 0   \n",
              "3                                 0   \n",
              "4                                 0   \n",
              "\n",
              "   departamento_ejecucion_San Andrés, Providencia y Santa Catalina  \\\n",
              "0                                                  0                 \n",
              "1                                                  0                 \n",
              "2                                                  0                 \n",
              "3                                                  0                 \n",
              "4                                                  0                 \n",
              "\n",
              "   departamento_ejecucion_Santander  departamento_ejecucion_Sucre  \\\n",
              "0                                 0                             0   \n",
              "1                                 0                             0   \n",
              "2                                 0                             0   \n",
              "3                                 0                             0   \n",
              "4                                 0                             0   \n",
              "\n",
              "   departamento_ejecucion_Tolima  departamento_ejecucion_Valle del Cauca  \\\n",
              "0                              0                                       0   \n",
              "1                              0                                       0   \n",
              "2                              0                                       0   \n",
              "3                              1                                       0   \n",
              "4                              0                                       0   \n",
              "\n",
              "   departamento_ejecucion_Vaupés  departamento_ejecucion_Vichada  \n",
              "0                              0                               1  \n",
              "1                              0                               0  \n",
              "2                              0                               0  \n",
              "3                              0                               0  \n",
              "4                              0                               1  "
            ]
          },
          "metadata": {
            "tags": []
          },
          "execution_count": 27
        }
      ]
    },
    {
      "cell_type": "code",
      "metadata": {
        "id": "rJNCObjqqz6P",
        "colab_type": "code",
        "colab": {}
      },
      "source": [
        "# Descripción distribución de datos en función de la categoría sancionado"
      ],
      "execution_count": 0,
      "outputs": []
    },
    {
      "cell_type": "code",
      "metadata": {
        "id": "B2R5S-BPqbba",
        "colab_type": "code",
        "colab": {
          "base_uri": "https://localhost:8080/",
          "height": 279
        },
        "outputId": "7614b18b-5e0c-4878-92b1-89d8debf91a5"
      },
      "source": [
        "ax = sns.countplot(x=\"sancion\", data=df_SOHE)"
      ],
      "execution_count": 29,
      "outputs": [
        {
          "output_type": "display_data",
          "data": {
            "image/png": "[encoded data removed]",
            "text/plain": [
              "<Figure size 432x288 with 1 Axes>"
            ]
          },
          "metadata": {
            "tags": []
          }
        }
      ]
    },
    {
      "cell_type": "code",
      "metadata": {
        "id": "pk-D0sLLq7Bk",
        "colab_type": "code",
        "colab": {
          "base_uri": "https://localhost:8080/",
          "height": 1000
        },
        "outputId": "f08591d4-4ebd-4a3f-c61c-2538e5b16cf6"
      },
      "source": [
        "def plot_distribution(data_select): \n",
        "    figsize =( 15, 8)\n",
        "    sns.set_style(\"ticks\")\n",
        "    s = sns.FacetGrid(dfCluster, hue = 'sancion',aspect = 2.5, palette ={0 : 'lime', 1 :'black'})\n",
        "    s.map(sns.kdeplot, data_select, shade = True, alpha = 0.6)\n",
        "    s.set(xlim=(dfCluster[data_select].min(), dfCluster[data_select].max()))\n",
        "    s.add_legend()\n",
        "    s.set_axis_labels(data_select, 'proportion')\n",
        "    s.fig.suptitle(data_select)\n",
        "    plt.show()\n",
        "\n",
        "for i in df_Numeric.columns.unique():\n",
        "   plot_distribution(i)   "
      ],
      "execution_count": 30,
      "outputs": [
        {
          "output_type": "display_data",
          "data": {
            "image/png": "[encoded data removed]",
            "text/plain": [
              "<Figure size 586.5x216 with 1 Axes>"
            ]
          },
          "metadata": {
            "tags": []
          }
        },
        {
          "output_type": "display_data",
          "data": {
            "image/png": "[encoded data removed]",
            "text/plain": [
              "<Figure size 586.5x216 with 1 Axes>"
            ]
          },
          "metadata": {
            "tags": []
          }
        },
        {
          "output_type": "stream",
          "text": [
            "/usr/local/lib/python3.6/dist-packages/statsmodels/nonparametric/kde.py:487: RuntimeWarning:\n",
            "\n",
            "invalid value encountered in true_divide\n",
            "\n",
            "/usr/local/lib/python3.6/dist-packages/statsmodels/nonparametric/kdetools.py:34: RuntimeWarning:\n",
            "\n",
            "invalid value encountered in double_scalars\n",
            "\n"
          ],
          "name": "stderr"
        },
        {
          "output_type": "display_data",
          "data": {
            "image/png": "[encoded data removed]",
            "text/plain": [
              "<Figure size 586.5x216 with 1 Axes>"
            ]
          },
          "metadata": {
            "tags": []
          }
        },
        {
          "output_type": "display_data",
          "data": {
            "image/png": "[encoded data removed]",
            "text/plain": [
              "<Figure size 586.5x216 with 1 Axes>"
            ]
          },
          "metadata": {
            "tags": []
          }
        },
        {
          "output_type": "display_data",
          "data": {
            "image/png": "[encoded data removed]",
            "text/plain": [
              "<Figure size 586.5x216 with 1 Axes>"
            ]
          },
          "metadata": {
            "tags": []
          }
        },
        {
          "output_type": "display_data",
          "data": {
            "image/png": "[encoded data removed]",
            "text/plain": [
              "<Figure size 586.5x216 with 1 Axes>"
            ]
          },
          "metadata": {
            "tags": []
          }
        },
        {
          "output_type": "display_data",
          "data": {
            "image/png": "[encoded data removed]",
            "text/plain": [
              "<Figure size 586.5x216 with 1 Axes>"
            ]
          },
          "metadata": {
            "tags": []
          }
        },
        {
          "output_type": "display_data",
          "data": {
            "image/png": "[encoded data removed]",
            "text/plain": [
              "<Figure size 586.5x216 with 1 Axes>"
            ]
          },
          "metadata": {
            "tags": []
          }
        }
      ]
    },
    {
      "cell_type": "code",
      "metadata": {
        "id": "8BZZhKQdsEvT",
        "colab_type": "code",
        "colab": {
          "base_uri": "https://localhost:8080/",
          "height": 578
        },
        "outputId": "60550282-98f5-4e6c-c25d-9ebe99edb60e"
      },
      "source": [
        "f, (ax1, ax2) = plt.subplots(1,2,figsize =( 18, 8))\n",
        "corr = dfCluster.corr()\n",
        "mask = np.zeros_like(corr, dtype=np.bool)\n",
        "mask[np.triu_indices_from(mask)] = True\n",
        "sns.heatmap((dfCluster.loc[dfCluster['sancion'] ==1]).corr(), vmax = .8, square=True, ax = ax1, cmap = 'YlGnBu', mask=mask);\n",
        "ax1.set_title('Fraud')\n",
        "sns.heatmap((dfCluster.loc[dfCluster['sancion'] ==0]).corr(), vmax = .8, square=True, ax = ax2, cmap = 'YlGnBu', mask=mask);\n",
        "ax2.set_title('Normal')\n",
        "plt.show()"
      ],
      "execution_count": 34,
      "outputs": [
        {
          "output_type": "display_data",
          "data": {
            "image/png": "[encoded data removed]",
            "text/plain": [
              "<Figure size 1296x576 with 4 Axes>"
            ]
          },
          "metadata": {
            "tags": []
          }
        }
      ]
    },
    {
      "cell_type": "code",
      "metadata": {
        "id": "4KYK3Mv9sdZ2",
        "colab_type": "code",
        "colab": {}
      },
      "source": [
        "#### Kmeans sobre unión de df categoricos\n",
        "X=df_SOHE.copy()\n",
        "X=X.drop(columns=[\"sancion\",\"terminado\"])"
      ],
      "execution_count": 0,
      "outputs": []
    },
    {
      "cell_type": "code",
      "metadata": {
        "id": "Pvnkka3vyz6J",
        "colab_type": "code",
        "colab": {}
      },
      "source": [
        "y=df_SOHE[\"sancion\"]"
      ],
      "execution_count": 0,
      "outputs": []
    },
    {
      "cell_type": "code",
      "metadata": {
        "id": "2Oatb9R1s8qH",
        "colab_type": "code",
        "colab": {
          "base_uri": "https://localhost:8080/",
          "height": 17
        },
        "outputId": "dfa83f3d-d921-419d-fab1-027bc95aafdc"
      },
      "source": [
        "## Generación de modelo #1 - Modelo sin estratificación del modelo \n",
        "\n",
        "from sklearn.metrics import precision_score, roc_auc_score, recall_score, confusion_matrix, roc_curve, precision_recall_curve, accuracy_score\n",
        "import plotly.offline as py\n",
        "py.init_notebook_mode(connected=True)\n",
        "import plotly.graph_objs as go\n",
        "import plotly.tools as tls\n",
        "import plotly.figure_factory as ff\n",
        "import warnings\n",
        "warnings.filterwarnings('ignore')"
      ],
      "execution_count": 38,
      "outputs": [
        {
          "output_type": "display_data",
          "data": {
            "text/html": [
              "        <script type=\"text/javascript\">\n",
              "        window.PlotlyConfig = {MathJaxConfig: 'local'};\n",
              "        if (window.MathJax) {MathJax.Hub.Config({SVG: {font: \"STIX-Web\"}});}\n",
              "        if (typeof require !== 'undefined') {\n",
              "        require.undef(\"plotly\");\n",
              "        requirejs.config({\n",
              "            paths: {\n",
              "                'plotly': ['https://cdn.plot.ly/plotly-latest.min']\n",
              "            }\n",
              "        });\n",
              "        require(['plotly'], function(Plotly) {\n",
              "            window._Plotly = Plotly;\n",
              "        });\n",
              "        }\n",
              "        </script>\n",
              "        "
            ]
          },
          "metadata": {
            "tags": []
          }
        }
      ]
    },
    {
      "cell_type": "code",
      "metadata": {
        "id": "lrCjNNR3tRD5",
        "colab_type": "code",
        "colab": {}
      },
      "source": [
        "def model_performance(model) : \n",
        "    #Conf matrix\n",
        "    conf_matrix = confusion_matrix(y_test, y_pred)\n",
        "    trace1 = go.Heatmap(z = conf_matrix  ,x = [\"0 (pred)\",\"1 (pred)\"],\n",
        "                        y = [\"0 (true)\",\"1 (true)\"],xgap = 2, ygap = 2, \n",
        "                        colorscale = 'Viridis', showscale  = False)\n",
        "\n",
        "    #Show metrics\n",
        "    tp = conf_matrix[1,1]\n",
        "    fn = conf_matrix[1,0]\n",
        "    fp = conf_matrix[0,1]\n",
        "    tn = conf_matrix[0,0]\n",
        "    Accuracy  =  ((tp+tn)/(tp+tn+fp+fn))\n",
        "    Precision =  (tp/(tp+fp))\n",
        "    Recall    =  (tp/(tp+fn))\n",
        "    F1_score  =  (2*(((tp/(tp+fp))*(tp/(tp+fn)))/((tp/(tp+fp))+(tp/(tp+fn)))))\n",
        "\n",
        "    show_metrics = pd.DataFrame(data=[[Accuracy , Precision, Recall, F1_score]])\n",
        "    show_metrics = show_metrics.T\n",
        "\n",
        "    colors = ['gold', 'lightgreen', 'lightcoral', 'lightskyblue']\n",
        "    trace2 = go.Bar(x = (show_metrics[0].values), \n",
        "                   y = ['Accuracy', 'Precision', 'Recall', 'F1_score'], text = np.round_(show_metrics[0].values,4),\n",
        "                    textposition = 'auto',\n",
        "                   orientation = 'h', opacity = 0.8,marker=dict(\n",
        "            color=colors,\n",
        "            line=dict(color='#000000',width=1.5)))\n",
        "    \n",
        "    #Roc curve\n",
        "    model_roc_auc = round(roc_auc_score(y_test, y_score) , 3)\n",
        "    fpr, tpr, t = roc_curve(y_test, y_score)\n",
        "    trace3 = go.Scatter(x = fpr,y = tpr,\n",
        "                        name = \"Roc : \" + str(model_roc_auc),\n",
        "                        line = dict(color = ('rgb(22, 96, 167)'),width = 2), fill='tozeroy')\n",
        "    trace4 = go.Scatter(x = [0,1],y = [0,1],\n",
        "                        line = dict(color = ('black'),width = 1.5,\n",
        "                        dash = 'dot'))\n",
        "    \n",
        "    # Precision-recall curve\n",
        "    precision, recall, thresholds = precision_recall_curve(y_test, y_score)\n",
        "    trace5 = go.Scatter(x = recall, y = precision,\n",
        "                        name = \"Precision\" + str(precision),\n",
        "                        line = dict(color = ('lightcoral'),width = 2), fill='tozeroy')\n",
        "    \n",
        "    #Feature importance\n",
        "    coefficients  = pd.DataFrame(eval(model).feature_importances_)\n",
        "    column_data   = pd.DataFrame(list(data))\n",
        "    coef_sumry    = (pd.merge(coefficients,column_data,left_index= True,\n",
        "                              right_index= True, how = \"left\"))\n",
        "    coef_sumry.columns = [\"coefficients\",\"features\"]\n",
        "    coef_sumry    = coef_sumry.sort_values(by = \"coefficients\",ascending = False)\n",
        "    coef_sumry = coef_sumry[coef_sumry[\"coefficients\"] !=0]\n",
        "    trace6 = go.Bar(x = coef_sumry[\"features\"],y = coef_sumry[\"coefficients\"],\n",
        "                    name = \"coefficients\",\n",
        "                    marker = dict(color = coef_sumry[\"coefficients\"],\n",
        "                                  colorscale = \"Viridis\",\n",
        "                                  line = dict(width = .6,color = \"black\")))\n",
        "    \n",
        "    #Cumulative gain\n",
        "    pos = pd.get_dummies(y_test).as_matrix()\n",
        "    pos = pos[:,1] \n",
        "    npos = np.sum(pos)\n",
        "    index = np.argsort(y_score) \n",
        "    index = index[::-1] \n",
        "    sort_pos = pos[index]\n",
        "    #cumulative sum\n",
        "    cpos = np.cumsum(sort_pos) \n",
        "    #recall\n",
        "    recall = cpos/npos \n",
        "    #size obs test\n",
        "    n = y_test.shape[0] \n",
        "    size = np.arange(start=1,stop=369,step=1) \n",
        "    #proportion\n",
        "    size = size / n \n",
        "    #plots\n",
        "    model = model\n",
        "    trace7 = go.Scatter(x = size,y = recall,\n",
        "                        name = \"Lift curve\",\n",
        "                        line = dict(color = ('gold'),width = 2), fill='tozeroy') \n",
        "    \n",
        "    #Subplots\n",
        "    fig = tls.make_subplots(rows=4, cols=2, print_grid=False, \n",
        "                          specs=[[{}, {}], \n",
        "                                 [{}, {}],\n",
        "                                 [{'colspan': 2}, None],\n",
        "                                 [{'colspan': 2}, None]],\n",
        "                          subplot_titles=('Confusion Matrix',\n",
        "                                        'Metrics',\n",
        "                                        'ROC curve'+\" \"+ '('+ str(model_roc_auc)+')',\n",
        "                                        'Precision - Recall curve',\n",
        "                                        'Cumulative gains curve',\n",
        "                                        'Feature importance',\n",
        "                                        ))\n",
        "    \n",
        "    fig.append_trace(trace1,1,1)\n",
        "    fig.append_trace(trace2,1,2)\n",
        "    fig.append_trace(trace3,2,1)\n",
        "    fig.append_trace(trace4,2,1)\n",
        "    fig.append_trace(trace5,2,2)\n",
        "    fig.append_trace(trace6,4,1)\n",
        "    fig.append_trace(trace7,3,1)\n",
        "    \n",
        "    fig['layout'].update(showlegend = False, title = '<b>Model performance report</b><br>'+str(model),\n",
        "                        autosize = False, height = 1500,width = 830,\n",
        "                        plot_bgcolor = 'rgba(240,240,240, 0.95)',\n",
        "                        paper_bgcolor = 'rgba(240,240,240, 0.95)',\n",
        "                        margin = dict(b = 195))\n",
        "    fig[\"layout\"][\"xaxis2\"].update((dict(range=[0, 1])))\n",
        "    fig[\"layout\"][\"xaxis3\"].update(dict(title = \"false positive rate\"))\n",
        "    fig[\"layout\"][\"yaxis3\"].update(dict(title = \"true positive rate\"))\n",
        "    fig[\"layout\"][\"xaxis4\"].update(dict(title = \"recall\"), range = [0,1.05])\n",
        "    fig[\"layout\"][\"yaxis4\"].update(dict(title = \"precision\"), range = [0,1.05])\n",
        "    fig[\"layout\"][\"xaxis5\"].update(dict(title = \"Percentage contacted\"))\n",
        "    fig[\"layout\"][\"yaxis5\"].update(dict(title = \"Percentage positive targeted\"))\n",
        "    fig.layout.titlefont.size = 14\n",
        "    \n",
        "    py.iplot(fig)"
      ],
      "execution_count": 0,
      "outputs": []
    },
    {
      "cell_type": "code",
      "metadata": {
        "id": "DyzZvIb5sdbY",
        "colab_type": "code",
        "colab": {}
      },
      "source": [
        "from sklearn.ensemble import RandomForestClassifier, RandomForestRegressor\n",
        "from xgboost.sklearn import XGBRegressor, XGBClassifier\n",
        "from sklearn.linear_model import ElasticNetCV, LogisticRegressionCV\n",
        "from warnings import filterwarnings\n",
        "\n",
        "#train test split\n",
        "from sklearn.model_selection import train_test_split\n",
        "\n",
        "from sklearn.model_selection import RandomizedSearchCV\n",
        "from pprint import pprint\n",
        "\n",
        "import numpy as np\n",
        "import scipy.stats as st\n",
        "\n",
        "def get_feature_importances(X, y, regularize=True):\n",
        "    \"\"\"\n",
        "    Use Random Forest Classifier/Regressor to estimate X features importance into y target. \n",
        "    Use of RandomSearchCV to make an hypertunning of the Random Forest Classifier/Regressor parameters such like number of trees or max depth.\n",
        "    Once the best parameters are tune. A model is fitted with a train set and validate with a test set. The score of both models are displayed.\n",
        "    Assumes categorical variables are already encoded.\n",
        "    :param X: (pandas.DataFrame) matrix of features, assumes categorical variables are already enconded\n",
        "    :param y: (pandas.Series) target, can be continuous or categorical\n",
        "    :return: (pandas.DataFrame) explained variability for each of the features\n",
        "    \"\"\"\n",
        "\n",
        "    # Grid parameters for random forest hypertunning\n",
        "    # Number of trees in random forest\n",
        "    n_estimators = [int(x) for x in np.linspace(start = 100, stop = 1000, num = 10)]\n",
        "    # Number of features to consider at every split\n",
        "    max_features = ['auto', 'sqrt']\n",
        "    # Maximum number of levels in tree\n",
        "    max_depth = [int(x) for x in np.linspace(10, 110, num = 11)]\n",
        "    max_depth.append(None)\n",
        "    # Minimum number of samples required to split a node\n",
        "    min_samples_split = [2, 5, 10]\n",
        "    # Minimum number of samples required at each leaf node\n",
        "    min_samples_leaf = [1, 2, 4]\n",
        "    # Method of selecting samples for training each tree\n",
        "    bootstrap = [True, False]\n",
        "\n",
        "    # Create the random grid\n",
        "    random_grid = {'n_estimators': n_estimators,\n",
        "                'max_features': max_features,\n",
        "                'max_depth': max_depth,\n",
        "                'min_samples_split': min_samples_split,\n",
        "                'min_samples_leaf': min_samples_leaf,\n",
        "                'bootstrap': bootstrap}\n",
        "    # get setup\n",
        "    #pprint(random_grid)   \n",
        "    \n",
        "    # Create the random grid for XGB model\n",
        "    params = {  \n",
        "        \"n_estimators\": st.randint(10, 1000),\n",
        "        \"max_depth\": st.randint(3, 10),\n",
        "        \"learning_rate\": st.uniform(0.03, 1.0),\n",
        "        'reg_alpha':  st.expon(0, 50),\n",
        "        \"min_child_weight\": st.expon(0, 50),\n",
        "        #\"colsample_bytree\": [0.5, 0.7, 0.9, 1.0],\n",
        "        #\"subsample\": [0.5, 0.7, 0.9, 1.0],\n",
        "        #\"gamma\": st.uniform(0, 10),\n",
        "    }\n",
        "    \n",
        "    # Identify the kind of model to perform, \"reg\" for regression and \"clas\" for classification\n",
        "    kind = 'reg' if 'float' in str(y.dtype) else 'clas'\n",
        "\n",
        "    # Model initialization and regularization\n",
        "    if kind == 'clas':\n",
        "        model = RandomForestClassifier(criterion='entropy', random_state=1234)\n",
        "        \n",
        "        modelXG = XGBClassifier(nthreads=-1, random_state=1234, booster='gbtree')\n",
        "    else:\n",
        "        model = RandomForestRegressor(random_state=1234)\n",
        "        \n",
        "        modelXG = XGBRegressor(nthreads=-1, random_state=1234, booster='gbtree')\n",
        "    \n",
        "    # train test split\n",
        "    X_train, X_test, y_train, y_test = train_test_split(X, y,test_size=0.3, random_state=1234)\n",
        "    \n",
        "    # randomSearchCV RF\n",
        "    model_random = RandomizedSearchCV(estimator=model, param_distributions=random_grid,\n",
        "                              n_iter = 100, scoring='neg_mean_absolute_error', \n",
        "                              cv = 3, verbose=2, random_state=42, n_jobs=-1,\n",
        "                              return_train_score=True)\n",
        "    #Fit to get best model RandomForest\n",
        "    model_random.fit(X_train, y_train)\n",
        "\n",
        "    #XGBoost randomsearchCV\n",
        "    gs = RandomizedSearchCV(modelXG, params, n_jobs=-1, random_state=1234, cv=3, n_iter=100)\n",
        "    # fit XGB\n",
        "    gs.fit(X_train, y_train)\n",
        "    \n",
        "    best_fit = gs.best_estimator_\n",
        "    \n",
        "    #print(best_fit)\n",
        "    best_fit.fit(X_train, y_train)\n",
        "    \n",
        "\n",
        "    ### Print the best parameters\n",
        "    #print(\"Best model parameters\")\n",
        "    #pprint(model_random.best_estimator_)\n",
        "    # Selecction of best model \n",
        "    BestModel= model_random.best_estimator_\n",
        "    # Fit of the best model\n",
        "    BestModel.fit(X_train, y_train)\n",
        "\n",
        "    XG_train_score = best_fit.score(X_train, y_train)\n",
        "    XG_test_score = best_fit.score(X_test, y_test)\n",
        "    M_train_Score=BestModel.score(X_train, y_train)\n",
        "    M_test_Score=BestModel.score(X_test, y_test)\n",
        "    # Print Score modelo\n",
        "    print(\"El Score de training del modelo fue: {}\".format(M_train_Score))\n",
        "    print(\"El Score de test del modelo fue: {}\".format(M_test_Score))\n",
        "    print(\"El Score de training del modelo XG fue: {}\".format(XG_train_score))\n",
        "    print(\"El Score de test del modelo  XG fue: {}\".format(XG_test_score))\n",
        "\n",
        "\n",
        "    if ((M_train_Score)  >=(XG_train_score)) & ((M_train_Score)  >= 0.4):\n",
        "        # Explained Variability Calculation\n",
        "        importances = pd.DataFrame(BestModel.feature_importances_.tolist(), columns=['explanation'])\n",
        "        features = pd.DataFrame(X_train.columns.tolist(), columns=['feature'])\n",
        "        df = pd.concat([features, importances], axis=1)\n",
        "        #df.explanation = df.explanation * BestModel.score(X_train, y_train) * 100\n",
        "        df.sort_values('explanation', ascending=False, inplace=True)\n",
        "        df.set_index('feature', inplace=True)\n",
        "    elif (M_test_Score/abs(M_train_Score) ) >= (XG_test_score/abs(XG_train_score)):\n",
        "        # Explained Variability Calculation\n",
        "        importances = pd.DataFrame(BestModel.feature_importances_.tolist(), columns=['explanation'])\n",
        "        features = pd.DataFrame(X_train.columns.tolist(), columns=['feature'])\n",
        "        df = pd.concat([features, importances], axis=1)\n",
        "        #df.explanation = df.explanation * BestModel.score(X_train, y_train) * 100\n",
        "        df.sort_values('explanation', ascending=False, inplace=True)\n",
        "        df.set_index('feature', inplace=True)    \n",
        "    else:\n",
        "        # Explained Variability Calculation\n",
        "        importances = pd.DataFrame(best_fit.feature_importances_.tolist(), columns=['explanation'])\n",
        "        features = pd.DataFrame(X_train.columns.tolist(), columns=['feature'])\n",
        "        df = pd.concat([features, importances], axis=1)\n",
        "        #df.explanation = df.explanation * best_fit.score(X_train, y_train) * 100\n",
        "        df.sort_values('explanation', ascending=False, inplace=True)\n",
        "        df.set_index('feature', inplace=True)    \n",
        "    # Return\n",
        "    return df, best_fit, BestModel"
      ],
      "execution_count": 0,
      "outputs": []
    },
    {
      "cell_type": "code",
      "metadata": {
        "id": "PAFyMv6fuyN8",
        "colab_type": "code",
        "colab": {}
      },
      "source": [
        "## def lightgm\n",
        "import lightgbm as lgbm\n",
        "from scipy.stats import randint as sp_randint\n",
        "from scipy.stats import uniform as sp_uniform\n",
        "def get_lightgbm(X,y):\n",
        "  X_train, X_test, y_train, y_test = train_test_split(X, y,test_size=0.3, random_state=1234)\n",
        "  fit_params = {\"early_stopping_rounds\" : 50, \n",
        "             \"eval_metric\" : 'binary', \n",
        "             \"eval_set\" : [(X_test,y_test)],\n",
        "             'eval_names': ['valid'],\n",
        "             'verbose': 0,\n",
        "             'categorical_feature': 'auto'}\n",
        "\n",
        "  param_test = {'learning_rate' : [0.01, 0.02, 0.03, 0.04, 0.05, 0.08, 0.1, 0.2, 0.3, 0.4],\n",
        "                'n_estimators' : [100, 200, 300, 400, 500, 600, 800, 1000, 1500, 2000, 3000, 5000],\n",
        "                'num_leaves': sp_randint(6, 50), \n",
        "                'min_child_samples': sp_randint(100, 500), \n",
        "                'min_child_weight': [1e-5, 1e-3, 1e-2, 1e-1, 1, 1e1, 1e2, 1e3, 1e4],\n",
        "                'subsample': sp_uniform(loc=0.2, scale=0.8), \n",
        "                'max_depth': [-1, 1, 2, 3, 4, 5, 6, 7],\n",
        "                'colsample_bytree': sp_uniform(loc=0.4, scale=0.6),\n",
        "                'reg_alpha': [0, 1e-1, 1, 2, 5, 7, 10, 50, 100],\n",
        "                'reg_lambda': [0, 1e-1, 1, 5, 10, 20, 50, 100]}\n",
        "\n",
        "  #number of combinations\n",
        "  n_iter = 2 #(replace 2 by 200, 90 minutes)\n",
        "  \n",
        "\n",
        "  #intialize lgbm and lunch the search\n",
        "  lgbm_clf = lgbm.LGBMClassifier(random_state=1234, silent=True, metric='None', n_jobs=-1)\n",
        "  grid_search = RandomizedSearchCV(\n",
        "      estimator=lgbm_clf, param_distributions=param_test, \n",
        "      n_iter=n_iter,\n",
        "      scoring='accuracy',\n",
        "      cv=5,\n",
        "      refit=True,\n",
        "      random_state=1234,\n",
        "      verbose=True)\n",
        "\n",
        "  grid_search.fit(X_train, y_train, **fit_params)\n",
        "  print('Best score reached: {} with params: {} '.format(grid_search.best_score_, grid_search.best_params_))\n",
        "\n",
        "  opt_parameters =  grid_search.best_params_\n",
        "\n",
        "  clf_sw = lgbm.LGBMClassifier(**lgbm_clf.get_params())\n",
        "  #Optimal parameter\n",
        "  clf_sw.set_params(**opt_parameters)\n",
        "  clf_sw.fit(X_train, y_train)\n",
        "  clf_sw.fit(X_train, y_train)\n",
        "  y_pred = clf_sw.predict(X_test)\n",
        "  y_score = clf_sw.predict_proba(X_test)[:,1]\n",
        "  return y_pred,y_score,clf_sw"
      ],
      "execution_count": 0,
      "outputs": []
    },
    {
      "cell_type": "code",
      "metadata": {
        "id": "1q4J4Unxyg0V",
        "colab_type": "code",
        "outputId": "d4983419-be2b-4453-8423-c371e5b5cbea",
        "colab": {
          "base_uri": "https://localhost:8080/",
          "height": 51
        }
      },
      "source": [
        "resultadoClasificadorRFXG=get_feature_importances(X,y)"
      ],
      "execution_count": 0,
      "outputs": [
        {
          "output_type": "stream",
          "text": [
            "Fitting 3 folds for each of 100 candidates, totalling 300 fits\n"
          ],
          "name": "stdout"
        },
        {
          "output_type": "stream",
          "text": [
            "[Parallel(n_jobs=-1)]: Using backend LokyBackend with 2 concurrent workers.\n"
          ],
          "name": "stderr"
        }
      ]
    },
    {
      "cell_type": "code",
      "metadata": {
        "id": "FWW9KsXfzCbE",
        "colab_type": "code",
        "colab": {}
      },
      "source": [
        "resultadoClasificadorlightgbm=get_lightgbm(X,y)"
      ],
      "execution_count": 0,
      "outputs": []
    },
    {
      "cell_type": "code",
      "metadata": {
        "id": "aeWl39kHxjD5",
        "colab_type": "code",
        "colab": {}
      },
      "source": [
        ""
      ],
      "execution_count": 0,
      "outputs": []
    }
  ]
}